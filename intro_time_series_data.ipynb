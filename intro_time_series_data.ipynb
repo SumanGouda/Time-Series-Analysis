{
 "cells": [
  {
   "cell_type": "markdown",
   "id": "91721a3f",
   "metadata": {},
   "source": [
    "## Time Series Data \n",
    "**Time Series Data**\n",
    "* Time series data is a sequence of data points measured at regular time intervals, typically with a temporal relationship between them. This type of data is commonly used in fields such as finance, economics, weather forecasting, and signal processing.\n",
    "\n",
    "* A modular time series it must be <mark><i>Stationary</i></mark>.\n",
    "  + A stationary time series has the following properties:\n",
    "    - Constant mean over time\n",
    "    - Constant variance over time\n",
    "    - Constant autocorrelation over time ( How each value in the time series related to it's neighbour should stays the same.)\n",
    "\n",
    "* In this type we will train the model with the past data and test it with the future data. \n",
    "* Chronological Order \n",
    "* Sequential Order \n",
    "* Constant Frequency \n",
    "* Dynamic Nature "
   ]
  },
  {
   "cell_type": "markdown",
   "id": "c17ba062",
   "metadata": {},
   "source": [
    "# Time Series Components: Simplified Definitions\n",
    "\n",
    "## 1. Secular Trend\n",
    "- **Meaning**: The long-term underlying direction of the data (increasing, decreasing, or stable) over years/decades\n",
    "- **Example**:  \n",
    "  - Gradual rise in global temperatures due to climate change  \n",
    "  - Steady growth of a company's revenue over 10 years\n",
    "\n",
    "## 2. Seasonal Variable\n",
    "- **Meaning**: Predictable, repeating patterns that occur at fixed intervals (daily, monthly, yearly)\n",
    "- **Example**:  \n",
    "  - Higher electricity usage every summer  \n",
    "  - Christmas sales spikes every December\n",
    "\n",
    "## 3. Cyclic Variable\n",
    "- **Meaning**: Fluctuations without fixed periodicity, often tied to economic conditions (>1 year duration)\n",
    "- **Example**:  \n",
    "  - Housing market booms and busts  \n",
    "  - Business investment cycles\n",
    "\n",
    "## 4. Irregular Variation (Noise)\n",
    "- **Meaning**: Random, unpredictable fluctuations caused by unexpected events or measurement errors\n",
    "- **Example**:  \n",
    "  - Stock price drops due to sudden political crisis  \n",
    "  - Abnormal weather affecting retail sales\n",
    "\n",
    "### Key Differences\n",
    "| Component      | Duration       | Predictability | Example |\n",
    "|---------------|---------------|----------------|---------|\n",
    "| **Trend**     | Years/decades | High           | Population growth |\n",
    "| **Seasonal**  | Fixed periods | Very high      | Holiday sales |\n",
    "| **Cyclic**    | 1+ years      | Moderate       | Recessions |\n",
    "| **Irregular** | Instantaneous | None           | Natural disasters |"
   ]
  },
  {
   "cell_type": "markdown",
   "id": "5ca0b5b6",
   "metadata": {},
   "source": [
    "## Methods of Measuring Trends\n",
    "\n",
    "### <span style=\"color:cyan\">1. Free Hand Curve Method</span> \n",
    "\n",
    "#### Definition\n",
    "A non-mathematical approach to trend estimation where the analyst draws a smooth curve through the data points by visual inspection.\n",
    "\n",
    "#### Key Characteristics\n",
    "- **Nature**: Subjective (relies on analyst's judgment)\n",
    "- **Formula**: None (shape depends on data pattern interpretation)\n",
    "- **Speed**: Quick visualization method\n",
    "- **Best For**: Initial exploratory analysis\n",
    "\n",
    "#### When to Use\n",
    "1. Preliminary trend identification\n",
    "2. Irregular data patterns that don't fit mathematical models\n",
    "3. Visual presentations to highlight overall patterns\n",
    "\n",
    "#### Advantages\n",
    "- Requires no complex calculations\n",
    "- Immediate visual representation\n",
    "- Useful for small datasets\n",
    "\n",
    "#### Limitations\n",
    "- **Reproducibility**: Different analysts may draw different curves\n",
    "- **Forecasting**: Cannot generate quantitative forecasts\n",
    "- **Rigor**: Lacks statistical validation\n",
    "- **Consistency**: Results vary between applications\n",
    "\n",
    "#### Example Application"
   ]
  },
  {
   "cell_type": "code",
   "execution_count": 4,
   "id": "e0ca76e1",
   "metadata": {},
   "outputs": [
    {
     "data": {
      "text/html": [
       "\n",
       "<div style='width:100%; height:400px; overflow:auto; border:1px solid #ccc; margin:40px 0;'>\n",
       "<div>                        <script type=\"text/javascript\">window.PlotlyConfig = {MathJaxConfig: 'local'};</script>\n",
       "        <script charset=\"utf-8\" src=\"https://cdn.plot.ly/plotly-3.0.1.min.js\" integrity=\"sha256-oy6Be7Eh6eiQFs5M7oXuPxxm9qbJXEtTpfSI93dW16Q=\" crossorigin=\"anonymous\"></script>                <div id=\"afa2d8bf-5232-4914-aa3d-bfa3c544b009\" class=\"plotly-graph-div\" style=\"height:800px; width:1500px;\"></div>            <script type=\"text/javascript\">                window.PLOTLYENV=window.PLOTLYENV || {};                                if (document.getElementById(\"afa2d8bf-5232-4914-aa3d-bfa3c544b009\")) {                    Plotly.newPlot(                        \"afa2d8bf-5232-4914-aa3d-bfa3c544b009\",                        [{\"line\":{\"color\":\"orange\"},\"marker\":{\"color\":\"white\"},\"mode\":\"markers+lines\",\"name\":\"Data\",\"x\":{\"dtype\":\"f8\",\"bdata\":\"AAAAAAAAAAAAAAAAAADgPwAAAAAAAPA\\u002fAAAAAAAA+D8AAAAAAAAAQAAAAAAAAARAAAAAAAAACEAAAAAAAAAMQAAAAAAAABBAAAAAAAAAEkAAAAAAAAAUQAAAAAAAABZAAAAAAAAAGEAAAAAAAAAaQAAAAAAAABxAAAAAAAAAHkAAAAAAAAAgQAAAAAAAACFAAAAAAAAAIkAAAAAAAAAjQAAAAAAAACRAAAAAAAAAJUAAAAAAAAAmQAAAAAAAACdAAAAAAAAAKEAAAAAAAAApQAAAAAAAACpAAAAAAAAAK0AAAAAAAAAsQAAAAAAAAC1AAAAAAAAALkAAAAAAAAAvQAAAAAAAADBAAAAAAACAMEAAAAAAAAAxQAAAAAAAgDFAAAAAAAAAMkAAAAAAAIAyQAAAAAAAADNAAAAAAACAM0AAAAAAAAA0QAAAAAAAgDRAAAAAAAAANUAAAAAAAIA1QAAAAAAAADZAAAAAAACANkAAAAAAAAA3QAAAAAAAgDdA\"},\"y\":{\"dtype\":\"f8\",\"bdata\":\"\\u002fVmHIIhuuT850rTz1+ncPzaGQ9KAEu8\\u002fzlhj0GfV9D\\u002f266bfU5nrP1NZfeUSp+E\\u002fTpSo8N8+3T\\u002fifRorAUHJv+8UNbLpOOu\\u002fNASyEP\\u002fO67\\u002fGWuC2YtPwv4j7jIXWjum\\u002f0EYOwSmSzb\\u002f0vRxX0nHFvwHE55Db99M\\u002fT9VCC9hq6j9+SLR2Zi3pP\\u002f+AyLoRkOs\\u002fWsJC0XiBzT8YgJ\\u002fbHOPWv9ZgZ5+aDtC\\u002fusqbKmGY7b\\u002fGJWoUSJHvv7Bph30BkfK\\u002f4MrMoYWn5L9gAzCyLJmmv1BouMfhUMg\\u002f4e6uSSUg7D\\u002fo6zwS+NrrPwlHMM+\\u002fDOw\\u002f+lxGZlL14D9fHfd4J3biP2Q7UFM8mdK\\u002fnT0eLOaL7b9T5dVUHIDpvxJNCnxHhPO\\u002fePJTquKx5r\\u002fcLk4jU4Dnvy6zr4Zyor2\\u002fnD5bvB6j5D8De08lYPjwP7cy7FRmf\\u002fA\\u002ffmPso2cI6j+YWTBFrVTaPwgJvDjXfdO\\u002f67sjjFMy5L9LW4638gbuv\\u002fX+34VMLOm\\u002f\"},\"type\":\"scatter\"},{\"line\":{\"color\":\"cyan\",\"dash\":\"solid\",\"width\":4},\"mode\":\"lines\",\"name\":\"Freehand Trend\",\"x\":[0,24],\"y\":[0,0.5],\"type\":\"scatter\"}],                        {\"template\":{\"data\":{\"barpolar\":[{\"marker\":{\"line\":{\"color\":\"rgb(17,17,17)\",\"width\":0.5},\"pattern\":{\"fillmode\":\"overlay\",\"size\":10,\"solidity\":0.2}},\"type\":\"barpolar\"}],\"bar\":[{\"error_x\":{\"color\":\"#f2f5fa\"},\"error_y\":{\"color\":\"#f2f5fa\"},\"marker\":{\"line\":{\"color\":\"rgb(17,17,17)\",\"width\":0.5},\"pattern\":{\"fillmode\":\"overlay\",\"size\":10,\"solidity\":0.2}},\"type\":\"bar\"}],\"carpet\":[{\"aaxis\":{\"endlinecolor\":\"#A2B1C6\",\"gridcolor\":\"#506784\",\"linecolor\":\"#506784\",\"minorgridcolor\":\"#506784\",\"startlinecolor\":\"#A2B1C6\"},\"baxis\":{\"endlinecolor\":\"#A2B1C6\",\"gridcolor\":\"#506784\",\"linecolor\":\"#506784\",\"minorgridcolor\":\"#506784\",\"startlinecolor\":\"#A2B1C6\"},\"type\":\"carpet\"}],\"choropleth\":[{\"colorbar\":{\"outlinewidth\":0,\"ticks\":\"\"},\"type\":\"choropleth\"}],\"contourcarpet\":[{\"colorbar\":{\"outlinewidth\":0,\"ticks\":\"\"},\"type\":\"contourcarpet\"}],\"contour\":[{\"colorbar\":{\"outlinewidth\":0,\"ticks\":\"\"},\"colorscale\":[[0.0,\"#0d0887\"],[0.1111111111111111,\"#46039f\"],[0.2222222222222222,\"#7201a8\"],[0.3333333333333333,\"#9c179e\"],[0.4444444444444444,\"#bd3786\"],[0.5555555555555556,\"#d8576b\"],[0.6666666666666666,\"#ed7953\"],[0.7777777777777778,\"#fb9f3a\"],[0.8888888888888888,\"#fdca26\"],[1.0,\"#f0f921\"]],\"type\":\"contour\"}],\"heatmap\":[{\"colorbar\":{\"outlinewidth\":0,\"ticks\":\"\"},\"colorscale\":[[0.0,\"#0d0887\"],[0.1111111111111111,\"#46039f\"],[0.2222222222222222,\"#7201a8\"],[0.3333333333333333,\"#9c179e\"],[0.4444444444444444,\"#bd3786\"],[0.5555555555555556,\"#d8576b\"],[0.6666666666666666,\"#ed7953\"],[0.7777777777777778,\"#fb9f3a\"],[0.8888888888888888,\"#fdca26\"],[1.0,\"#f0f921\"]],\"type\":\"heatmap\"}],\"histogram2dcontour\":[{\"colorbar\":{\"outlinewidth\":0,\"ticks\":\"\"},\"colorscale\":[[0.0,\"#0d0887\"],[0.1111111111111111,\"#46039f\"],[0.2222222222222222,\"#7201a8\"],[0.3333333333333333,\"#9c179e\"],[0.4444444444444444,\"#bd3786\"],[0.5555555555555556,\"#d8576b\"],[0.6666666666666666,\"#ed7953\"],[0.7777777777777778,\"#fb9f3a\"],[0.8888888888888888,\"#fdca26\"],[1.0,\"#f0f921\"]],\"type\":\"histogram2dcontour\"}],\"histogram2d\":[{\"colorbar\":{\"outlinewidth\":0,\"ticks\":\"\"},\"colorscale\":[[0.0,\"#0d0887\"],[0.1111111111111111,\"#46039f\"],[0.2222222222222222,\"#7201a8\"],[0.3333333333333333,\"#9c179e\"],[0.4444444444444444,\"#bd3786\"],[0.5555555555555556,\"#d8576b\"],[0.6666666666666666,\"#ed7953\"],[0.7777777777777778,\"#fb9f3a\"],[0.8888888888888888,\"#fdca26\"],[1.0,\"#f0f921\"]],\"type\":\"histogram2d\"}],\"histogram\":[{\"marker\":{\"pattern\":{\"fillmode\":\"overlay\",\"size\":10,\"solidity\":0.2}},\"type\":\"histogram\"}],\"mesh3d\":[{\"colorbar\":{\"outlinewidth\":0,\"ticks\":\"\"},\"type\":\"mesh3d\"}],\"parcoords\":[{\"line\":{\"colorbar\":{\"outlinewidth\":0,\"ticks\":\"\"}},\"type\":\"parcoords\"}],\"pie\":[{\"automargin\":true,\"type\":\"pie\"}],\"scatter3d\":[{\"line\":{\"colorbar\":{\"outlinewidth\":0,\"ticks\":\"\"}},\"marker\":{\"colorbar\":{\"outlinewidth\":0,\"ticks\":\"\"}},\"type\":\"scatter3d\"}],\"scattercarpet\":[{\"marker\":{\"colorbar\":{\"outlinewidth\":0,\"ticks\":\"\"}},\"type\":\"scattercarpet\"}],\"scattergeo\":[{\"marker\":{\"colorbar\":{\"outlinewidth\":0,\"ticks\":\"\"}},\"type\":\"scattergeo\"}],\"scattergl\":[{\"marker\":{\"line\":{\"color\":\"#283442\"}},\"type\":\"scattergl\"}],\"scattermapbox\":[{\"marker\":{\"colorbar\":{\"outlinewidth\":0,\"ticks\":\"\"}},\"type\":\"scattermapbox\"}],\"scattermap\":[{\"marker\":{\"colorbar\":{\"outlinewidth\":0,\"ticks\":\"\"}},\"type\":\"scattermap\"}],\"scatterpolargl\":[{\"marker\":{\"colorbar\":{\"outlinewidth\":0,\"ticks\":\"\"}},\"type\":\"scatterpolargl\"}],\"scatterpolar\":[{\"marker\":{\"colorbar\":{\"outlinewidth\":0,\"ticks\":\"\"}},\"type\":\"scatterpolar\"}],\"scatter\":[{\"marker\":{\"line\":{\"color\":\"#283442\"}},\"type\":\"scatter\"}],\"scatterternary\":[{\"marker\":{\"colorbar\":{\"outlinewidth\":0,\"ticks\":\"\"}},\"type\":\"scatterternary\"}],\"surface\":[{\"colorbar\":{\"outlinewidth\":0,\"ticks\":\"\"},\"colorscale\":[[0.0,\"#0d0887\"],[0.1111111111111111,\"#46039f\"],[0.2222222222222222,\"#7201a8\"],[0.3333333333333333,\"#9c179e\"],[0.4444444444444444,\"#bd3786\"],[0.5555555555555556,\"#d8576b\"],[0.6666666666666666,\"#ed7953\"],[0.7777777777777778,\"#fb9f3a\"],[0.8888888888888888,\"#fdca26\"],[1.0,\"#f0f921\"]],\"type\":\"surface\"}],\"table\":[{\"cells\":{\"fill\":{\"color\":\"#506784\"},\"line\":{\"color\":\"rgb(17,17,17)\"}},\"header\":{\"fill\":{\"color\":\"#2a3f5f\"},\"line\":{\"color\":\"rgb(17,17,17)\"}},\"type\":\"table\"}]},\"layout\":{\"annotationdefaults\":{\"arrowcolor\":\"#f2f5fa\",\"arrowhead\":0,\"arrowwidth\":1},\"autotypenumbers\":\"strict\",\"coloraxis\":{\"colorbar\":{\"outlinewidth\":0,\"ticks\":\"\"}},\"colorscale\":{\"diverging\":[[0,\"#8e0152\"],[0.1,\"#c51b7d\"],[0.2,\"#de77ae\"],[0.3,\"#f1b6da\"],[0.4,\"#fde0ef\"],[0.5,\"#f7f7f7\"],[0.6,\"#e6f5d0\"],[0.7,\"#b8e186\"],[0.8,\"#7fbc41\"],[0.9,\"#4d9221\"],[1,\"#276419\"]],\"sequential\":[[0.0,\"#0d0887\"],[0.1111111111111111,\"#46039f\"],[0.2222222222222222,\"#7201a8\"],[0.3333333333333333,\"#9c179e\"],[0.4444444444444444,\"#bd3786\"],[0.5555555555555556,\"#d8576b\"],[0.6666666666666666,\"#ed7953\"],[0.7777777777777778,\"#fb9f3a\"],[0.8888888888888888,\"#fdca26\"],[1.0,\"#f0f921\"]],\"sequentialminus\":[[0.0,\"#0d0887\"],[0.1111111111111111,\"#46039f\"],[0.2222222222222222,\"#7201a8\"],[0.3333333333333333,\"#9c179e\"],[0.4444444444444444,\"#bd3786\"],[0.5555555555555556,\"#d8576b\"],[0.6666666666666666,\"#ed7953\"],[0.7777777777777778,\"#fb9f3a\"],[0.8888888888888888,\"#fdca26\"],[1.0,\"#f0f921\"]]},\"colorway\":[\"#636efa\",\"#EF553B\",\"#00cc96\",\"#ab63fa\",\"#FFA15A\",\"#19d3f3\",\"#FF6692\",\"#B6E880\",\"#FF97FF\",\"#FECB52\"],\"font\":{\"color\":\"#f2f5fa\"},\"geo\":{\"bgcolor\":\"rgb(17,17,17)\",\"lakecolor\":\"rgb(17,17,17)\",\"landcolor\":\"rgb(17,17,17)\",\"showlakes\":true,\"showland\":true,\"subunitcolor\":\"#506784\"},\"hoverlabel\":{\"align\":\"left\"},\"hovermode\":\"closest\",\"mapbox\":{\"style\":\"dark\"},\"paper_bgcolor\":\"rgb(17,17,17)\",\"plot_bgcolor\":\"rgb(17,17,17)\",\"polar\":{\"angularaxis\":{\"gridcolor\":\"#506784\",\"linecolor\":\"#506784\",\"ticks\":\"\"},\"bgcolor\":\"rgb(17,17,17)\",\"radialaxis\":{\"gridcolor\":\"#506784\",\"linecolor\":\"#506784\",\"ticks\":\"\"}},\"scene\":{\"xaxis\":{\"backgroundcolor\":\"rgb(17,17,17)\",\"gridcolor\":\"#506784\",\"gridwidth\":2,\"linecolor\":\"#506784\",\"showbackground\":true,\"ticks\":\"\",\"zerolinecolor\":\"#C8D4E3\"},\"yaxis\":{\"backgroundcolor\":\"rgb(17,17,17)\",\"gridcolor\":\"#506784\",\"gridwidth\":2,\"linecolor\":\"#506784\",\"showbackground\":true,\"ticks\":\"\",\"zerolinecolor\":\"#C8D4E3\"},\"zaxis\":{\"backgroundcolor\":\"rgb(17,17,17)\",\"gridcolor\":\"#506784\",\"gridwidth\":2,\"linecolor\":\"#506784\",\"showbackground\":true,\"ticks\":\"\",\"zerolinecolor\":\"#C8D4E3\"}},\"shapedefaults\":{\"line\":{\"color\":\"#f2f5fa\"}},\"sliderdefaults\":{\"bgcolor\":\"#C8D4E3\",\"bordercolor\":\"rgb(17,17,17)\",\"borderwidth\":1,\"tickwidth\":0},\"ternary\":{\"aaxis\":{\"gridcolor\":\"#506784\",\"linecolor\":\"#506784\",\"ticks\":\"\"},\"baxis\":{\"gridcolor\":\"#506784\",\"linecolor\":\"#506784\",\"ticks\":\"\"},\"bgcolor\":\"rgb(17,17,17)\",\"caxis\":{\"gridcolor\":\"#506784\",\"linecolor\":\"#506784\",\"ticks\":\"\"}},\"title\":{\"x\":0.05},\"updatemenudefaults\":{\"bgcolor\":\"#506784\",\"borderwidth\":0},\"xaxis\":{\"automargin\":true,\"gridcolor\":\"#283442\",\"linecolor\":\"#506784\",\"ticks\":\"\",\"title\":{\"standoff\":15},\"zerolinecolor\":\"#283442\",\"zerolinewidth\":2},\"yaxis\":{\"automargin\":true,\"gridcolor\":\"#283442\",\"linecolor\":\"#506784\",\"ticks\":\"\",\"title\":{\"standoff\":15},\"zerolinecolor\":\"#283442\",\"zerolinewidth\":2}}},\"xaxis\":{\"title\":{\"text\":\"Time\"},\"zeroline\":true,\"zerolinewidth\":1.5,\"zerolinecolor\":\"gray\"},\"yaxis\":{\"title\":{\"text\":\"Value\"},\"zeroline\":true,\"zerolinewidth\":1.5,\"zerolinecolor\":\"gray\"},\"title\":{\"text\":\"Free Hand Curve Method\"},\"showlegend\":true,\"width\":1500,\"height\":800},                        {\"responsive\": true}                    )                };            </script>        </div>\n",
       "</div>\n"
      ],
      "text/plain": [
       "<IPython.core.display.HTML object>"
      ]
     },
     "metadata": {},
     "output_type": "display_data"
    }
   ],
   "source": [
    "import numpy as np\n",
    "import plotly.graph_objects as go\n",
    "from IPython.display import HTML, display\n",
    "\n",
    "# Generate synthetic data\n",
    "np.random.seed(42)\n",
    "time = np.arange(0, 24, 0.5)\n",
    "y_values = np.sin(time) + np.random.normal(0, 0.2, len(time))\n",
    "\n",
    "# Create figure\n",
    "fig = go.Figure()\n",
    "\n",
    "# Add original data\n",
    "fig.add_trace(go.Scatter(\n",
    "    x=time, \n",
    "    y=y_values, \n",
    "    name='Data', \n",
    "    mode='markers+lines', \n",
    "    marker_color='white', \n",
    "    line_color='orange'\n",
    "))\n",
    "\n",
    "# Add freehand trend line (manually approximated)\n",
    "freehand_x = [0, 24]  # Start and end points\n",
    "freehand_y = [0, 0.5]  # Manually estimated start/end values\n",
    "\n",
    "fig.add_trace(go.Scatter(\n",
    "    x=freehand_x,\n",
    "    y=freehand_y,\n",
    "    name='Freehand Trend',\n",
    "    mode='lines',\n",
    "    line=dict(color='cyan', width=4, dash='solid')\n",
    "))\n",
    "\n",
    "# Update layout\n",
    "fig.update_layout(\n",
    "    title='Free Hand Curve Method',\n",
    "    xaxis=dict(\n",
    "        title='Time', \n",
    "        zeroline=True, \n",
    "        zerolinewidth=1.5, \n",
    "        zerolinecolor='gray'\n",
    "    ),\n",
    "    yaxis=dict(\n",
    "        title='Value', \n",
    "        zeroline=True, \n",
    "        zerolinewidth=1.5, \n",
    "        zerolinecolor='gray'\n",
    "    ),\n",
    "    showlegend=True,\n",
    "    template='plotly_dark',\n",
    "    width=1500,\n",
    "    height=800  # Increased height for better scrolling\n",
    ")\n",
    "\n",
    "# Convert to scrollable HTML\n",
    "html = f\"\"\"\n",
    "<div style='width:100%; height:400px; overflow:auto; border:1px solid #ccc; margin:40px 0;'>\n",
    "{fig.to_html(full_html=False, include_plotlyjs='cdn')}\n",
    "</div>\n",
    "\"\"\"\n",
    "display(HTML(html))"
   ]
  },
  {
   "cell_type": "code",
   "execution_count": 26,
   "id": "35d108d7",
   "metadata": {},
   "outputs": [
    {
     "name": "stderr",
     "output_type": "stream",
     "text": [
      "[*********************100%***********************]  1 of 1 completed\n"
     ]
    },
    {
     "data": {
      "image/png": "[encoded data removed]",
      "text/plain": [
       "<Figure size 1500x700 with 1 Axes>"
      ]
     },
     "metadata": {},
     "output_type": "display_data"
    }
   ],
   "source": [
    "import yfinance as yf \n",
    "import pandas as pd \n",
    "import numpy as np \n",
    "import matplotlib.pyplot as plt\n",
    "import plotly.graph_objects as go\n",
    "import warnings\n",
    "warnings.filterwarnings('ignore')\n",
    "\n",
    "stock_data = yf.download(\"AAPL\", start=\"2022-01-01\", end=\"2022-12-31\")\n",
    "\n",
    "plt.figure(figsize=(15, 7))\n",
    "plt.plot(stock_data.index, stock_data['Close'], label='Close Price', color = 'orange')\n",
    "plt.title('APPL Stock Price Over Time')\n",
    "plt.xlabel('Date')\n",
    "plt.ylabel('Close Price')\n",
    "plt.legend()\n",
    "plt.grid(True)\n",
    "plt.show()"
   ]
  },
  {
   "cell_type": "markdown",
   "id": "989abd3a",
   "metadata": {},
   "source": [
    "### <span style=\"color:cyan\">2. Semi-Average Method</span>\n",
    "\n",
    "#### Definition\n",
    "The **semi-average method** is a simple statistical technique for trend estimation that divides time series data into two equal parts and calculates their respective averages to establish a linear trend line.\n",
    "\n",
    "#### Key Characteristics\n",
    "| Feature          | Description                                                                 |\n",
    "|------------------|-----------------------------------------------------------------------------|\n",
    "| **Calculation**  | Divides data into two equal halves and computes their means                |\n",
    "| **Complexity**   | Simple arithmetic (no advanced math required)                              |\n",
    "| **Output**       | Straight-line trend connecting the two semi-averages                       |\n",
    "| **Best For**     | Rough trend approximation in small datasets                                |\n",
    "\n",
    "#### When to Use\n",
    "✔️ **Appropriate for**:\n",
    "- Quick preliminary trend analysis\n",
    "- Small datasets (<50 observations)\n",
    "- When only a rough linear trend is needed\n",
    "- Situations requiring minimal computation\n",
    "\n",
    "❌ **Avoid when**:\n",
    "- Data has strong seasonality/cyclical patterns\n",
    "- Non-linear trends are present\n",
    "- High precision is required\n",
    "\n",
    "#### Step-by-Step Implementation\n",
    "```python\n",
    "import numpy as np\n",
    "\n",
    "# Sample data (time periods vs values)\n",
    "years = np.arange(2010, 2020)\n",
    "values = [12, 15, 14, 18, 20, 22, 25, 24, 27, 30]\n"
   ]
  },
  {
   "cell_type": "code",
   "execution_count": null,
   "id": "19aece9e",
   "metadata": {},
   "outputs": [
    {
     "data": {
      "application/vnd.plotly.v1+json": {
       "config": {
        "plotlyServerURL": "https://plot.ly"
       },
       "data": [
        {
         "line": {
          "color": "orange",
          "width": 2
         },
         "marker": {
          "color": "white",
          "size": 8
         },
         "mode": "markers+lines",
         "name": "Data",
         "type": "scatter",
         "x": {
          "bdata": "0AfRB9IH0wfUB9UH1gfXB9gH2QfaB9sH3AfdB94H3wfgB+EH4gfjB+QH5QfmBw==",
          "dtype": "i2"
         },
         "y": {
          "bdata": "owEAADYCAACHAQAAXQMAAGwDAAD2AQAAgQIAAFkDAABNAgAAKwMAAD4BAABcAwAAlQAAAIwDAAAhAwAA/QIAAGwDAACMAgAAfwAAAOkCAACkAgAAQAMAAGMBAAA=",
          "dtype": "i4"
         }
        },
        {
         "line": {
          "color": "cyan",
          "dash": "dash",
          "width": 4
         },
         "marker": {
          "color": "red",
          "size": 12
         },
         "mode": "lines+markers",
         "name": "Semi-Average Line",
         "type": "scatter",
         "x": [
          2005,
          2017
         ],
         "y": [
          640.9166666666666,
          626
         ]
        }
       ],
       "layout": {
        "height": 800,
        "hovermode": "x unified",
        "showlegend": true,
        "template": {
         "data": {
          "bar": [
           {
            "error_x": {
             "color": "#f2f5fa"
            },
            "error_y": {
             "color": "#f2f5fa"
            },
            "marker": {
             "line": {
              "color": "rgb(17,17,17)",
              "width": 0.5
             },
             "pattern": {
              "fillmode": "overlay",
              "size": 10,
              "solidity": 0.2
             }
            },
            "type": "bar"
           }
          ],
          "barpolar": [
           {
            "marker": {
             "line": {
              "color": "rgb(17,17,17)",
              "width": 0.5
             },
             "pattern": {
              "fillmode": "overlay",
              "size": 10,
              "solidity": 0.2
             }
            },
            "type": "barpolar"
           }
          ],
          "carpet": [
           {
            "aaxis": {
             "endlinecolor": "#A2B1C6",
             "gridcolor": "#506784",
             "linecolor": "#506784",
             "minorgridcolor": "#506784",
             "startlinecolor": "#A2B1C6"
            },
            "baxis": {
             "endlinecolor": "#A2B1C6",
             "gridcolor": "#506784",
             "linecolor": "#506784",
             "minorgridcolor": "#506784",
             "startlinecolor": "#A2B1C6"
            },
            "type": "carpet"
           }
          ],
          "choropleth": [
           {
            "colorbar": {
             "outlinewidth": 0,
             "ticks": ""
            },
            "type": "choropleth"
           }
          ],
          "contour": [
           {
            "colorbar": {
             "outlinewidth": 0,
             "ticks": ""
            },
            "colorscale": [
             [
              0,
              "#0d0887"
             ],
             [
              0.1111111111111111,
              "#46039f"
             ],
             [
              0.2222222222222222,
              "#7201a8"
             ],
             [
              0.3333333333333333,
              "#9c179e"
             ],
             [
              0.4444444444444444,
              "#bd3786"
             ],
             [
              0.5555555555555556,
              "#d8576b"
             ],
             [
              0.6666666666666666,
              "#ed7953"
             ],
             [
              0.7777777777777778,
              "#fb9f3a"
             ],
             [
              0.8888888888888888,
              "#fdca26"
             ],
             [
              1,
              "#f0f921"
             ]
            ],
            "type": "contour"
           }
          ],
          "contourcarpet": [
           {
            "colorbar": {
             "outlinewidth": 0,
             "ticks": ""
            },
            "type": "contourcarpet"
           }
          ],
          "heatmap": [
           {
            "colorbar": {
             "outlinewidth": 0,
             "ticks": ""
            },
            "colorscale": [
             [
              0,
              "#0d0887"
             ],
             [
              0.1111111111111111,
              "#46039f"
             ],
             [
              0.2222222222222222,
              "#7201a8"
             ],
             [
              0.3333333333333333,
              "#9c179e"
             ],
             [
              0.4444444444444444,
              "#bd3786"
             ],
             [
              0.5555555555555556,
              "#d8576b"
             ],
             [
              0.6666666666666666,
              "#ed7953"
             ],
             [
              0.7777777777777778,
              "#fb9f3a"
             ],
             [
              0.8888888888888888,
              "#fdca26"
             ],
             [
              1,
              "#f0f921"
             ]
            ],
            "type": "heatmap"
           }
          ],
          "histogram": [
           {
            "marker": {
             "pattern": {
              "fillmode": "overlay",
              "size": 10,
              "solidity": 0.2
             }
            },
            "type": "histogram"
           }
          ],
          "histogram2d": [
           {
            "colorbar": {
             "outlinewidth": 0,
             "ticks": ""
            },
            "colorscale": [
             [
              0,
              "#0d0887"
             ],
             [
              0.1111111111111111,
              "#46039f"
             ],
             [
              0.2222222222222222,
              "#7201a8"
             ],
             [
              0.3333333333333333,
              "#9c179e"
             ],
             [
              0.4444444444444444,
              "#bd3786"
             ],
             [
              0.5555555555555556,
              "#d8576b"
             ],
             [
              0.6666666666666666,
              "#ed7953"
             ],
             [
              0.7777777777777778,
              "#fb9f3a"
             ],
             [
              0.8888888888888888,
              "#fdca26"
             ],
             [
              1,
              "#f0f921"
             ]
            ],
            "type": "histogram2d"
           }
          ],
          "histogram2dcontour": [
           {
            "colorbar": {
             "outlinewidth": 0,
             "ticks": ""
            },
            "colorscale": [
             [
              0,
              "#0d0887"
             ],
             [
              0.1111111111111111,
              "#46039f"
             ],
             [
              0.2222222222222222,
              "#7201a8"
             ],
             [
              0.3333333333333333,
              "#9c179e"
             ],
             [
              0.4444444444444444,
              "#bd3786"
             ],
             [
              0.5555555555555556,
              "#d8576b"
             ],
             [
              0.6666666666666666,
              "#ed7953"
             ],
             [
              0.7777777777777778,
              "#fb9f3a"
             ],
             [
              0.8888888888888888,
              "#fdca26"
             ],
             [
              1,
              "#f0f921"
             ]
            ],
            "type": "histogram2dcontour"
           }
          ],
          "mesh3d": [
           {
            "colorbar": {
             "outlinewidth": 0,
             "ticks": ""
            },
            "type": "mesh3d"
           }
          ],
          "parcoords": [
           {
            "line": {
             "colorbar": {
              "outlinewidth": 0,
              "ticks": ""
             }
            },
            "type": "parcoords"
           }
          ],
          "pie": [
           {
            "automargin": true,
            "type": "pie"
           }
          ],
          "scatter": [
           {
            "marker": {
             "line": {
              "color": "#283442"
             }
            },
            "type": "scatter"
           }
          ],
          "scatter3d": [
           {
            "line": {
             "colorbar": {
              "outlinewidth": 0,
              "ticks": ""
             }
            },
            "marker": {
             "colorbar": {
              "outlinewidth": 0,
              "ticks": ""
             }
            },
            "type": "scatter3d"
           }
          ],
          "scattercarpet": [
           {
            "marker": {
             "colorbar": {
              "outlinewidth": 0,
              "ticks": ""
             }
            },
            "type": "scattercarpet"
           }
          ],
          "scattergeo": [
           {
            "marker": {
             "colorbar": {
              "outlinewidth": 0,
              "ticks": ""
             }
            },
            "type": "scattergeo"
           }
          ],
          "scattergl": [
           {
            "marker": {
             "line": {
              "color": "#283442"
             }
            },
            "type": "scattergl"
           }
          ],
          "scattermap": [
           {
            "marker": {
             "colorbar": {
              "outlinewidth": 0,
              "ticks": ""
             }
            },
            "type": "scattermap"
           }
          ],
          "scattermapbox": [
           {
            "marker": {
             "colorbar": {
              "outlinewidth": 0,
              "ticks": ""
             }
            },
            "type": "scattermapbox"
           }
          ],
          "scatterpolar": [
           {
            "marker": {
             "colorbar": {
              "outlinewidth": 0,
              "ticks": ""
             }
            },
            "type": "scatterpolar"
           }
          ],
          "scatterpolargl": [
           {
            "marker": {
             "colorbar": {
              "outlinewidth": 0,
              "ticks": ""
             }
            },
            "type": "scatterpolargl"
           }
          ],
          "scatterternary": [
           {
            "marker": {
             "colorbar": {
              "outlinewidth": 0,
              "ticks": ""
             }
            },
            "type": "scatterternary"
           }
          ],
          "surface": [
           {
            "colorbar": {
             "outlinewidth": 0,
             "ticks": ""
            },
            "colorscale": [
             [
              0,
              "#0d0887"
             ],
             [
              0.1111111111111111,
              "#46039f"
             ],
             [
              0.2222222222222222,
              "#7201a8"
             ],
             [
              0.3333333333333333,
              "#9c179e"
             ],
             [
              0.4444444444444444,
              "#bd3786"
             ],
             [
              0.5555555555555556,
              "#d8576b"
             ],
             [
              0.6666666666666666,
              "#ed7953"
             ],
             [
              0.7777777777777778,
              "#fb9f3a"
             ],
             [
              0.8888888888888888,
              "#fdca26"
             ],
             [
              1,
              "#f0f921"
             ]
            ],
            "type": "surface"
           }
          ],
          "table": [
           {
            "cells": {
             "fill": {
              "color": "#506784"
             },
             "line": {
              "color": "rgb(17,17,17)"
             }
            },
            "header": {
             "fill": {
              "color": "#2a3f5f"
             },
             "line": {
              "color": "rgb(17,17,17)"
             }
            },
            "type": "table"
           }
          ]
         },
         "layout": {
          "annotationdefaults": {
           "arrowcolor": "#f2f5fa",
           "arrowhead": 0,
           "arrowwidth": 1
          },
          "autotypenumbers": "strict",
          "coloraxis": {
           "colorbar": {
            "outlinewidth": 0,
            "ticks": ""
           }
          },
          "colorscale": {
           "diverging": [
            [
             0,
             "#8e0152"
            ],
            [
             0.1,
             "#c51b7d"
            ],
            [
             0.2,
             "#de77ae"
            ],
            [
             0.3,
             "#f1b6da"
            ],
            [
             0.4,
             "#fde0ef"
            ],
            [
             0.5,
             "#f7f7f7"
            ],
            [
             0.6,
             "#e6f5d0"
            ],
            [
             0.7,
             "#b8e186"
            ],
            [
             0.8,
             "#7fbc41"
            ],
            [
             0.9,
             "#4d9221"
            ],
            [
             1,
             "#276419"
            ]
           ],
           "sequential": [
            [
             0,
             "#0d0887"
            ],
            [
             0.1111111111111111,
             "#46039f"
            ],
            [
             0.2222222222222222,
             "#7201a8"
            ],
            [
             0.3333333333333333,
             "#9c179e"
            ],
            [
             0.4444444444444444,
             "#bd3786"
            ],
            [
             0.5555555555555556,
             "#d8576b"
            ],
            [
             0.6666666666666666,
             "#ed7953"
            ],
            [
             0.7777777777777778,
             "#fb9f3a"
            ],
            [
             0.8888888888888888,
             "#fdca26"
            ],
            [
             1,
             "#f0f921"
            ]
           ],
           "sequentialminus": [
            [
             0,
             "#0d0887"
            ],
            [
             0.1111111111111111,
             "#46039f"
            ],
            [
             0.2222222222222222,
             "#7201a8"
            ],
            [
             0.3333333333333333,
             "#9c179e"
            ],
            [
             0.4444444444444444,
             "#bd3786"
            ],
            [
             0.5555555555555556,
             "#d8576b"
            ],
            [
             0.6666666666666666,
             "#ed7953"
            ],
            [
             0.7777777777777778,
             "#fb9f3a"
            ],
            [
             0.8888888888888888,
             "#fdca26"
            ],
            [
             1,
             "#f0f921"
            ]
           ]
          },
          "colorway": [
           "#636efa",
           "#EF553B",
           "#00cc96",
           "#ab63fa",
           "#FFA15A",
           "#19d3f3",
           "#FF6692",
           "#B6E880",
           "#FF97FF",
           "#FECB52"
          ],
          "font": {
           "color": "#f2f5fa"
          },
          "geo": {
           "bgcolor": "rgb(17,17,17)",
           "lakecolor": "rgb(17,17,17)",
           "landcolor": "rgb(17,17,17)",
           "showlakes": true,
           "showland": true,
           "subunitcolor": "#506784"
          },
          "hoverlabel": {
           "align": "left"
          },
          "hovermode": "closest",
          "mapbox": {
           "style": "dark"
          },
          "paper_bgcolor": "rgb(17,17,17)",
          "plot_bgcolor": "rgb(17,17,17)",
          "polar": {
           "angularaxis": {
            "gridcolor": "#506784",
            "linecolor": "#506784",
            "ticks": ""
           },
           "bgcolor": "rgb(17,17,17)",
           "radialaxis": {
            "gridcolor": "#506784",
            "linecolor": "#506784",
            "ticks": ""
           }
          },
          "scene": {
           "xaxis": {
            "backgroundcolor": "rgb(17,17,17)",
            "gridcolor": "#506784",
            "gridwidth": 2,
            "linecolor": "#506784",
            "showbackground": true,
            "ticks": "",
            "zerolinecolor": "#C8D4E3"
           },
           "yaxis": {
            "backgroundcolor": "rgb(17,17,17)",
            "gridcolor": "#506784",
            "gridwidth": 2,
            "linecolor": "#506784",
            "showbackground": true,
            "ticks": "",
            "zerolinecolor": "#C8D4E3"
           },
           "zaxis": {
            "backgroundcolor": "rgb(17,17,17)",
            "gridcolor": "#506784",
            "gridwidth": 2,
            "linecolor": "#506784",
            "showbackground": true,
            "ticks": "",
            "zerolinecolor": "#C8D4E3"
           }
          },
          "shapedefaults": {
           "line": {
            "color": "#f2f5fa"
           }
          },
          "sliderdefaults": {
           "bgcolor": "#C8D4E3",
           "bordercolor": "rgb(17,17,17)",
           "borderwidth": 1,
           "tickwidth": 0
          },
          "ternary": {
           "aaxis": {
            "gridcolor": "#506784",
            "linecolor": "#506784",
            "ticks": ""
           },
           "baxis": {
            "gridcolor": "#506784",
            "linecolor": "#506784",
            "ticks": ""
           },
           "bgcolor": "rgb(17,17,17)",
           "caxis": {
            "gridcolor": "#506784",
            "linecolor": "#506784",
            "ticks": ""
           }
          },
          "title": {
           "x": 0.05
          },
          "updatemenudefaults": {
           "bgcolor": "#506784",
           "borderwidth": 0
          },
          "xaxis": {
           "automargin": true,
           "gridcolor": "#283442",
           "linecolor": "#506784",
           "ticks": "",
           "title": {
            "standoff": 15
           },
           "zerolinecolor": "#283442",
           "zerolinewidth": 2
          },
          "yaxis": {
           "automargin": true,
           "gridcolor": "#283442",
           "linecolor": "#506784",
           "ticks": "",
           "title": {
            "standoff": 15
           },
           "zerolinecolor": "#283442",
           "zerolinewidth": 2
          }
         }
        },
        "title": {
         "text": "Semi-Average Method Demonstration"
        },
        "width": 1500,
        "xaxis": {
         "title": {
          "text": "Year"
         }
        },
        "yaxis": {
         "title": {
          "text": "Value"
         }
        }
       }
      }
     },
     "metadata": {},
     "output_type": "display_data"
    }
   ],
   "source": [
    "import numpy as np \n",
    "import plotly.graph_objects as go\n",
    "\n",
    "# Generate data\n",
    "years = np.arange(2000, 2023)\n",
    "values = np.random.randint(100, 1000, len(years))\n",
    "\n",
    "# If the length of the data is odd then remove the middle row for calculating semi-average line\n",
    "if len(years) % 2 != 0:\n",
    "    middle_index = len(years) // 2\n",
    "    trimmed_arr = np.delete(years, middle_index)\n",
    "    \n",
    "elif len(years) % 2 == 0:\n",
    "    trimmed_arr = years\n",
    "\n",
    "# Split data\n",
    "first_semi_year, second_semi_year = np.array_split(trimmed_arr, 2)\n",
    "first_half_values, second_half_values = np.array_split(values, 2)\n",
    "\n",
    "# Calculate averages\n",
    "avg_years = [np.mean(first_semi_year), np.mean(second_semi_year)]\n",
    "avg_values = [np.mean(first_half_values), np.mean(second_half_values)]\n",
    "    \n",
    "\n",
    "# Create figure\n",
    "fig = go.Figure()\n",
    "\n",
    "# Add original data trace\n",
    "fig.add_trace(go.Scatter(\n",
    "    x=years, \n",
    "    y=values, \n",
    "    name='Data', \n",
    "    mode='markers+lines',\n",
    "    marker=dict(color='white', size=8),\n",
    "    line=dict(color='orange', width=2)\n",
    "))\n",
    "\n",
    "# Add semi-average line trace\n",
    "fig.add_trace(go.Scatter(\n",
    "    x=avg_years,\n",
    "    y=avg_values,\n",
    "    mode='lines+markers',\n",
    "    name='Semi-Average Line',\n",
    "    marker=dict(color='red', size=12),\n",
    "    line=dict(color='cyan', width=4, dash='dash')\n",
    "))\n",
    "\n",
    "# Update layout\n",
    "fig.update_layout(\n",
    "    title='Semi-Average Method Demonstration',\n",
    "    xaxis_title='Year',\n",
    "    yaxis_title='Value',\n",
    "    showlegend=True,\n",
    "    template='plotly_dark',\n",
    "    width=1500,\n",
    "    height=800,\n",
    "    hovermode='x unified'\n",
    ")\n",
    "\n",
    "fig.show()"
   ]
  },
  {
   "cell_type": "markdown",
   "id": "a05ac82f",
   "metadata": {},
   "source": [
    "### <span style=\"color:cyan\">3. Moving Average Method: Explained</span>\n",
    "\n",
    "\n",
    "#### Definition\n",
    "A **moving average** smooths time series data by creating a series of averages from overlapping/adjacent subsets of the full dataset. It helps reveal trends by reducing noise.\n",
    "\n",
    "#### Key Characteristics\n",
    "| Feature          | Description                                                                 |\n",
    "|------------------|-----------------------------------------------------------------------------|\n",
    "| **Calculation**  | Average of sliding window of `n` periods                                   |\n",
    "| **Complexity**   | Simple arithmetic                                                          |\n",
    "| **Output**       | Smoothed curve lagging behind actual data                                  |\n",
    "| **Best For**     | Noise reduction, short-term trend identification                          |\n",
    "\n",
    "#### When to Use\n",
    "✔️ **Appropriate for**:\n",
    "- Reducing random fluctuations in data\n",
    "- Identifying underlying trends\n",
    "- Preparing data for further analysis\n",
    "- Smoothing volatile metrics (e.g., stock prices)\n",
    "\n",
    "❌ **Avoid when**:\n",
    "- Analyzing seasonality (use centered averages instead)\n",
    "- Immediate reaction to changes is critical\n",
    "- Data has structural breaks\n",
    "\n",
    "---\n",
    "\n",
    "#### Types of Moving Averages\n",
    "1. **Simple Moving Average (SMA)**  \n",
    "   ```python\n",
    "   SMA_t = (y_t + y_{t-1} + ... + y_{t-n+1}) / n\n",
    "\n"
   ]
  },
  {
   "cell_type": "code",
   "execution_count": 16,
   "id": "19143f5d",
   "metadata": {},
   "outputs": [
    {
     "data": {
      "application/vnd.plotly.v1+json": {
       "config": {
        "plotlyServerURL": "https://plot.ly"
       },
       "data": [
        {
         "hovertemplate": "Year: %{x}<br>Data: %{y:.2f}<br><extra></extra>",
         "line": {
          "color": "orange",
          "width": 2
         },
         "marker": {
          "color": "white",
          "size": 8
         },
         "mode": "markers+lines",
         "name": "Data",
         "type": "scatter",
         "x": {
          "bdata": "0AfRB9IH0wfUB9UH1gfXB9gH2QfaB9sH3AfdB94H3wfgB+EH4gfjB+QH5QfmBw==",
          "dtype": "i2"
         },
         "y": {
          "bdata": "6gEAADkBAABwAQAAYAMAAJEBAADSAQAACwEAAL8BAACqAAAAGgMAAL4CAADBAwAA5QIAAGgDAADaAgAAcgAAAC0BAADtAgAAfAEAAFIDAABeAQAA3AAAAJQDAAA=",
          "dtype": "i4"
         }
        },
        {
         "hovertemplate": "Year: %{x}<br>Moving Average: %{y:.2f}<br><extra></extra>",
         "line": {
          "color": "cyan",
          "dash": "dash",
          "width": 4
         },
         "marker": {
          "color": "#20f604",
          "size": 12
         },
         "mode": "lines+markers",
         "name": "Moving Average",
         "type": "scatter",
         "x": {
          "bdata": "0wfUB9UH1gfXB9gH2QfaB9sH3AfdB94H3wfgB+EH4gfjB+QH5QfmBw==",
          "dtype": "i2"
         },
         "y": {
          "bdata": "AAAAAADMf0AAAAAAAGh+QAAAAAAAZoBAAAAAAAA4f0AAAAAAALR4QAAAAAAAGHVAAAAAAAA4ekAAAAAAAIKAQAAAAAAAhoRAAAAAAAD8iEAAAAAAAJiJQAAAAAAA0IlAAAAAAAAyg0AAAAAAAIR/QAAAAAAAmH1AAAAAAAAgeEAAAAAAANCBQAAAAAAAMoJAAAAAAAAgfEAAAAAAAECCQA==",
          "dtype": "f8"
         }
        }
       ],
       "layout": {
        "height": 800,
        "showlegend": true,
        "template": {
         "data": {
          "bar": [
           {
            "error_x": {
             "color": "#f2f5fa"
            },
            "error_y": {
             "color": "#f2f5fa"
            },
            "marker": {
             "line": {
              "color": "rgb(17,17,17)",
              "width": 0.5
             },
             "pattern": {
              "fillmode": "overlay",
              "size": 10,
              "solidity": 0.2
             }
            },
            "type": "bar"
           }
          ],
          "barpolar": [
           {
            "marker": {
             "line": {
              "color": "rgb(17,17,17)",
              "width": 0.5
             },
             "pattern": {
              "fillmode": "overlay",
              "size": 10,
              "solidity": 0.2
             }
            },
            "type": "barpolar"
           }
          ],
          "carpet": [
           {
            "aaxis": {
             "endlinecolor": "#A2B1C6",
             "gridcolor": "#506784",
             "linecolor": "#506784",
             "minorgridcolor": "#506784",
             "startlinecolor": "#A2B1C6"
            },
            "baxis": {
             "endlinecolor": "#A2B1C6",
             "gridcolor": "#506784",
             "linecolor": "#506784",
             "minorgridcolor": "#506784",
             "startlinecolor": "#A2B1C6"
            },
            "type": "carpet"
           }
          ],
          "choropleth": [
           {
            "colorbar": {
             "outlinewidth": 0,
             "ticks": ""
            },
            "type": "choropleth"
           }
          ],
          "contour": [
           {
            "colorbar": {
             "outlinewidth": 0,
             "ticks": ""
            },
            "colorscale": [
             [
              0,
              "#0d0887"
             ],
             [
              0.1111111111111111,
              "#46039f"
             ],
             [
              0.2222222222222222,
              "#7201a8"
             ],
             [
              0.3333333333333333,
              "#9c179e"
             ],
             [
              0.4444444444444444,
              "#bd3786"
             ],
             [
              0.5555555555555556,
              "#d8576b"
             ],
             [
              0.6666666666666666,
              "#ed7953"
             ],
             [
              0.7777777777777778,
              "#fb9f3a"
             ],
             [
              0.8888888888888888,
              "#fdca26"
             ],
             [
              1,
              "#f0f921"
             ]
            ],
            "type": "contour"
           }
          ],
          "contourcarpet": [
           {
            "colorbar": {
             "outlinewidth": 0,
             "ticks": ""
            },
            "type": "contourcarpet"
           }
          ],
          "heatmap": [
           {
            "colorbar": {
             "outlinewidth": 0,
             "ticks": ""
            },
            "colorscale": [
             [
              0,
              "#0d0887"
             ],
             [
              0.1111111111111111,
              "#46039f"
             ],
             [
              0.2222222222222222,
              "#7201a8"
             ],
             [
              0.3333333333333333,
              "#9c179e"
             ],
             [
              0.4444444444444444,
              "#bd3786"
             ],
             [
              0.5555555555555556,
              "#d8576b"
             ],
             [
              0.6666666666666666,
              "#ed7953"
             ],
             [
              0.7777777777777778,
              "#fb9f3a"
             ],
             [
              0.8888888888888888,
              "#fdca26"
             ],
             [
              1,
              "#f0f921"
             ]
            ],
            "type": "heatmap"
           }
          ],
          "histogram": [
           {
            "marker": {
             "pattern": {
              "fillmode": "overlay",
              "size": 10,
              "solidity": 0.2
             }
            },
            "type": "histogram"
           }
          ],
          "histogram2d": [
           {
            "colorbar": {
             "outlinewidth": 0,
             "ticks": ""
            },
            "colorscale": [
             [
              0,
              "#0d0887"
             ],
             [
              0.1111111111111111,
              "#46039f"
             ],
             [
              0.2222222222222222,
              "#7201a8"
             ],
             [
              0.3333333333333333,
              "#9c179e"
             ],
             [
              0.4444444444444444,
              "#bd3786"
             ],
             [
              0.5555555555555556,
              "#d8576b"
             ],
             [
              0.6666666666666666,
              "#ed7953"
             ],
             [
              0.7777777777777778,
              "#fb9f3a"
             ],
             [
              0.8888888888888888,
              "#fdca26"
             ],
             [
              1,
              "#f0f921"
             ]
            ],
            "type": "histogram2d"
           }
          ],
          "histogram2dcontour": [
           {
            "colorbar": {
             "outlinewidth": 0,
             "ticks": ""
            },
            "colorscale": [
             [
              0,
              "#0d0887"
             ],
             [
              0.1111111111111111,
              "#46039f"
             ],
             [
              0.2222222222222222,
              "#7201a8"
             ],
             [
              0.3333333333333333,
              "#9c179e"
             ],
             [
              0.4444444444444444,
              "#bd3786"
             ],
             [
              0.5555555555555556,
              "#d8576b"
             ],
             [
              0.6666666666666666,
              "#ed7953"
             ],
             [
              0.7777777777777778,
              "#fb9f3a"
             ],
             [
              0.8888888888888888,
              "#fdca26"
             ],
             [
              1,
              "#f0f921"
             ]
            ],
            "type": "histogram2dcontour"
           }
          ],
          "mesh3d": [
           {
            "colorbar": {
             "outlinewidth": 0,
             "ticks": ""
            },
            "type": "mesh3d"
           }
          ],
          "parcoords": [
           {
            "line": {
             "colorbar": {
              "outlinewidth": 0,
              "ticks": ""
             }
            },
            "type": "parcoords"
           }
          ],
          "pie": [
           {
            "automargin": true,
            "type": "pie"
           }
          ],
          "scatter": [
           {
            "marker": {
             "line": {
              "color": "#283442"
             }
            },
            "type": "scatter"
           }
          ],
          "scatter3d": [
           {
            "line": {
             "colorbar": {
              "outlinewidth": 0,
              "ticks": ""
             }
            },
            "marker": {
             "colorbar": {
              "outlinewidth": 0,
              "ticks": ""
             }
            },
            "type": "scatter3d"
           }
          ],
          "scattercarpet": [
           {
            "marker": {
             "colorbar": {
              "outlinewidth": 0,
              "ticks": ""
             }
            },
            "type": "scattercarpet"
           }
          ],
          "scattergeo": [
           {
            "marker": {
             "colorbar": {
              "outlinewidth": 0,
              "ticks": ""
             }
            },
            "type": "scattergeo"
           }
          ],
          "scattergl": [
           {
            "marker": {
             "line": {
              "color": "#283442"
             }
            },
            "type": "scattergl"
           }
          ],
          "scattermap": [
           {
            "marker": {
             "colorbar": {
              "outlinewidth": 0,
              "ticks": ""
             }
            },
            "type": "scattermap"
           }
          ],
          "scattermapbox": [
           {
            "marker": {
             "colorbar": {
              "outlinewidth": 0,
              "ticks": ""
             }
            },
            "type": "scattermapbox"
           }
          ],
          "scatterpolar": [
           {
            "marker": {
             "colorbar": {
              "outlinewidth": 0,
              "ticks": ""
             }
            },
            "type": "scatterpolar"
           }
          ],
          "scatterpolargl": [
           {
            "marker": {
             "colorbar": {
              "outlinewidth": 0,
              "ticks": ""
             }
            },
            "type": "scatterpolargl"
           }
          ],
          "scatterternary": [
           {
            "marker": {
             "colorbar": {
              "outlinewidth": 0,
              "ticks": ""
             }
            },
            "type": "scatterternary"
           }
          ],
          "surface": [
           {
            "colorbar": {
             "outlinewidth": 0,
             "ticks": ""
            },
            "colorscale": [
             [
              0,
              "#0d0887"
             ],
             [
              0.1111111111111111,
              "#46039f"
             ],
             [
              0.2222222222222222,
              "#7201a8"
             ],
             [
              0.3333333333333333,
              "#9c179e"
             ],
             [
              0.4444444444444444,
              "#bd3786"
             ],
             [
              0.5555555555555556,
              "#d8576b"
             ],
             [
              0.6666666666666666,
              "#ed7953"
             ],
             [
              0.7777777777777778,
              "#fb9f3a"
             ],
             [
              0.8888888888888888,
              "#fdca26"
             ],
             [
              1,
              "#f0f921"
             ]
            ],
            "type": "surface"
           }
          ],
          "table": [
           {
            "cells": {
             "fill": {
              "color": "#506784"
             },
             "line": {
              "color": "rgb(17,17,17)"
             }
            },
            "header": {
             "fill": {
              "color": "#2a3f5f"
             },
             "line": {
              "color": "rgb(17,17,17)"
             }
            },
            "type": "table"
           }
          ]
         },
         "layout": {
          "annotationdefaults": {
           "arrowcolor": "#f2f5fa",
           "arrowhead": 0,
           "arrowwidth": 1
          },
          "autotypenumbers": "strict",
          "coloraxis": {
           "colorbar": {
            "outlinewidth": 0,
            "ticks": ""
           }
          },
          "colorscale": {
           "diverging": [
            [
             0,
             "#8e0152"
            ],
            [
             0.1,
             "#c51b7d"
            ],
            [
             0.2,
             "#de77ae"
            ],
            [
             0.3,
             "#f1b6da"
            ],
            [
             0.4,
             "#fde0ef"
            ],
            [
             0.5,
             "#f7f7f7"
            ],
            [
             0.6,
             "#e6f5d0"
            ],
            [
             0.7,
             "#b8e186"
            ],
            [
             0.8,
             "#7fbc41"
            ],
            [
             0.9,
             "#4d9221"
            ],
            [
             1,
             "#276419"
            ]
           ],
           "sequential": [
            [
             0,
             "#0d0887"
            ],
            [
             0.1111111111111111,
             "#46039f"
            ],
            [
             0.2222222222222222,
             "#7201a8"
            ],
            [
             0.3333333333333333,
             "#9c179e"
            ],
            [
             0.4444444444444444,
             "#bd3786"
            ],
            [
             0.5555555555555556,
             "#d8576b"
            ],
            [
             0.6666666666666666,
             "#ed7953"
            ],
            [
             0.7777777777777778,
             "#fb9f3a"
            ],
            [
             0.8888888888888888,
             "#fdca26"
            ],
            [
             1,
             "#f0f921"
            ]
           ],
           "sequentialminus": [
            [
             0,
             "#0d0887"
            ],
            [
             0.1111111111111111,
             "#46039f"
            ],
            [
             0.2222222222222222,
             "#7201a8"
            ],
            [
             0.3333333333333333,
             "#9c179e"
            ],
            [
             0.4444444444444444,
             "#bd3786"
            ],
            [
             0.5555555555555556,
             "#d8576b"
            ],
            [
             0.6666666666666666,
             "#ed7953"
            ],
            [
             0.7777777777777778,
             "#fb9f3a"
            ],
            [
             0.8888888888888888,
             "#fdca26"
            ],
            [
             1,
             "#f0f921"
            ]
           ]
          },
          "colorway": [
           "#636efa",
           "#EF553B",
           "#00cc96",
           "#ab63fa",
           "#FFA15A",
           "#19d3f3",
           "#FF6692",
           "#B6E880",
           "#FF97FF",
           "#FECB52"
          ],
          "font": {
           "color": "#f2f5fa"
          },
          "geo": {
           "bgcolor": "rgb(17,17,17)",
           "lakecolor": "rgb(17,17,17)",
           "landcolor": "rgb(17,17,17)",
           "showlakes": true,
           "showland": true,
           "subunitcolor": "#506784"
          },
          "hoverlabel": {
           "align": "left"
          },
          "hovermode": "closest",
          "mapbox": {
           "style": "dark"
          },
          "paper_bgcolor": "rgb(17,17,17)",
          "plot_bgcolor": "rgb(17,17,17)",
          "polar": {
           "angularaxis": {
            "gridcolor": "#506784",
            "linecolor": "#506784",
            "ticks": ""
           },
           "bgcolor": "rgb(17,17,17)",
           "radialaxis": {
            "gridcolor": "#506784",
            "linecolor": "#506784",
            "ticks": ""
           }
          },
          "scene": {
           "xaxis": {
            "backgroundcolor": "rgb(17,17,17)",
            "gridcolor": "#506784",
            "gridwidth": 2,
            "linecolor": "#506784",
            "showbackground": true,
            "ticks": "",
            "zerolinecolor": "#C8D4E3"
           },
           "yaxis": {
            "backgroundcolor": "rgb(17,17,17)",
            "gridcolor": "#506784",
            "gridwidth": 2,
            "linecolor": "#506784",
            "showbackground": true,
            "ticks": "",
            "zerolinecolor": "#C8D4E3"
           },
           "zaxis": {
            "backgroundcolor": "rgb(17,17,17)",
            "gridcolor": "#506784",
            "gridwidth": 2,
            "linecolor": "#506784",
            "showbackground": true,
            "ticks": "",
            "zerolinecolor": "#C8D4E3"
           }
          },
          "shapedefaults": {
           "line": {
            "color": "#f2f5fa"
           }
          },
          "sliderdefaults": {
           "bgcolor": "#C8D4E3",
           "bordercolor": "rgb(17,17,17)",
           "borderwidth": 1,
           "tickwidth": 0
          },
          "ternary": {
           "aaxis": {
            "gridcolor": "#506784",
            "linecolor": "#506784",
            "ticks": ""
           },
           "baxis": {
            "gridcolor": "#506784",
            "linecolor": "#506784",
            "ticks": ""
           },
           "bgcolor": "rgb(17,17,17)",
           "caxis": {
            "gridcolor": "#506784",
            "linecolor": "#506784",
            "ticks": ""
           }
          },
          "title": {
           "x": 0.05
          },
          "updatemenudefaults": {
           "bgcolor": "#506784",
           "borderwidth": 0
          },
          "xaxis": {
           "automargin": true,
           "gridcolor": "#283442",
           "linecolor": "#506784",
           "ticks": "",
           "title": {
            "standoff": 15
           },
           "zerolinecolor": "#283442",
           "zerolinewidth": 2
          },
          "yaxis": {
           "automargin": true,
           "gridcolor": "#283442",
           "linecolor": "#506784",
           "ticks": "",
           "title": {
            "standoff": 15
           },
           "zerolinecolor": "#283442",
           "zerolinewidth": 2
          }
         }
        },
        "title": {
         "text": "4 Year Moving Average Demonstration"
        },
        "width": 1500,
        "xaxis": {
         "title": {
          "text": "Year"
         }
        },
        "yaxis": {
         "title": {
          "text": "Value"
         }
        }
       }
      }
     },
     "metadata": {},
     "output_type": "display_data"
    }
   ],
   "source": [
    "import numpy as np\n",
    "import plotly.graph_objects as go\n",
    "\n",
    "# Generate data\n",
    "years = np.arange(2000, 2023)\n",
    "values = np.random.randint(100, 1000, len(years))\n",
    "\n",
    "# Calculate moving average\n",
    "gap = 4\n",
    "odd_gap_ma = np.convolve(values, np.ones(gap)/gap, mode='valid')\n",
    "\n",
    "# Create figure\n",
    "fig = go.Figure()\n",
    "\n",
    "# Add original data trace\n",
    "fig.add_trace(go.Scatter(\n",
    "    x=years, \n",
    "    y=values, \n",
    "    name='Data', \n",
    "    mode='markers+lines',\n",
    "    marker=dict(color='white', size=8),\n",
    "    line=dict(color='orange', width=2),\n",
    "    hovertemplate = (\n",
    "    \"Year: %{x}<br>\" +\n",
    "    \"Data: %{y:.2f}<br>\" +\n",
    "    \"<extra></extra>\"\n",
    "    )\n",
    "))\n",
    "\n",
    "# Add moving average trace\n",
    "fig.add_trace(go.Scatter(\n",
    "    x=years[gap-1:],  # Corrected x-values for moving average\n",
    "    y=odd_gap_ma,\n",
    "    name='Moving Average',\n",
    "    mode='lines+markers',\n",
    "    marker=dict(color=\"#20f604\", size=12),\n",
    "    line=dict(color='cyan', width=4, dash='dash'),\n",
    "    hovertemplate = (\n",
    "    \"Year: %{x}<br>\" +\n",
    "    \"Moving Average: %{y:.2f}<br>\" +\n",
    "    \"<extra></extra>\"\n",
    "    )\n",
    "))\n",
    "\n",
    "# Update layout\n",
    "fig.update_layout(\n",
    "    title=f'{gap} Year Moving Average Demonstration',\n",
    "    xaxis_title='Year',\n",
    "    yaxis_title='Value',\n",
    "    showlegend=True,\n",
    "    template='plotly_dark',\n",
    "    width=1500,\n",
    "    height=800  \n",
    ")\n",
    "\n",
    "# Show plot\n",
    "fig.show()"
   ]
  },
  {
   "cell_type": "markdown",
   "id": "069fbc3e",
   "metadata": {},
   "source": [
    "## Additive vs. Multiplicative Time Series Models\n",
    "\n",
    "### Additive Relationship\n",
    "- **Formula**:  \n",
    "  `Y(t) = Trend(t) + Seasonality(t) + Residuals(t)`  \n",
    "- **When to Use**:  \n",
    "  - When seasonal fluctuations are **constant** over time  \n",
    "  - Trend magnitude is independent of seasonality  \n",
    "- **Example**:  \n",
    "  `Monthly temperature variations (same ±5°C swing every year)`  \n",
    "\n",
    "### Multiplicative Relationship\n",
    "- **Formula**:  \n",
    "  `Y(t) = Trend(t) * Seasonality(t) * Residuals(t)`  \n",
    "- **When to Use**:  \n",
    "  - When seasonal fluctuations **grow/shrink with trend**  \n",
    "  - Common in economic data (e.g., sales, stock prices)  \n",
    "- **Example**:  \n",
    "  `Retail sales (10% holiday spikes proportional to baseline sales growth)`  \n",
    "\n",
    "#### Key Differences\n",
    "| Feature          | Additive                     | Multiplicative               |\n",
    "|------------------|-----------------------------|------------------------------|\n",
    "| **Seasonality**  | Constant amplitude          | Proportional to trend        |\n",
    "| **Residuals**    | Additive noise              | Multiplicative noise         |\n",
    "| **Transformation**| None                       | Log-transform stabilizes variance |\n",
    "\n",
    "#### Code Example (Decomposition)\n",
    "```python\n",
    "from statsmodels.tsa.seasonal import seasonal_decompose\n",
    "\n",
    "# Additive Decomposition\n",
    "additive = seasonal_decompose(series, model='additive')\n",
    "\n",
    "# Multiplicative Decomposition\n",
    "multiplicative = seasonal_decompose(series, model='multiplicative')"
   ]
  },
  {
   "cell_type": "code",
   "execution_count": 25,
   "id": "1316a27f",
   "metadata": {},
   "outputs": [
    {
     "name": "stderr",
     "output_type": "stream",
     "text": [
      "C:\\Users\\LENOVO\\AppData\\Local\\Temp\\ipykernel_24040\\3129725989.py:8: FutureWarning:\n",
      "\n",
      "YF.download() has changed argument auto_adjust default to True\n",
      "\n",
      "[*********************100%***********************]  1 of 1 completed\n"
     ]
    },
    {
     "data": {
      "application/vnd.plotly.v1+json": {
       "config": {
        "plotlyServerURL": "https://plot.ly"
       },
       "data": [
        {
         "line": {
          "color": "orange"
         },
         "mode": "lines",
         "name": "Close Price",
         "type": "scatter",
         "x": [
          "2022-01-25T00:00:00.000000000",
          "2022-01-26T00:00:00.000000000",
          "2022-01-27T00:00:00.000000000",
          "2022-01-28T00:00:00.000000000",
          "2022-01-31T00:00:00.000000000",
          "2022-02-01T00:00:00.000000000",
          "2022-02-02T00:00:00.000000000",
          "2022-02-03T00:00:00.000000000",
          "2022-02-04T00:00:00.000000000",
          "2022-02-07T00:00:00.000000000",
          "2022-02-08T00:00:00.000000000",
          "2022-02-09T00:00:00.000000000",
          "2022-02-10T00:00:00.000000000",
          "2022-02-11T00:00:00.000000000",
          "2022-02-14T00:00:00.000000000",
          "2022-02-15T00:00:00.000000000",
          "2022-02-16T00:00:00.000000000",
          "2022-02-17T00:00:00.000000000",
          "2022-02-18T00:00:00.000000000",
          "2022-02-22T00:00:00.000000000",
          "2022-02-23T00:00:00.000000000",
          "2022-02-24T00:00:00.000000000",
          "2022-02-25T00:00:00.000000000",
          "2022-02-28T00:00:00.000000000",
          "2022-03-01T00:00:00.000000000",
          "2022-03-02T00:00:00.000000000",
          "2022-03-03T00:00:00.000000000",
          "2022-03-04T00:00:00.000000000",
          "2022-03-07T00:00:00.000000000",
          "2022-03-08T00:00:00.000000000",
          "2022-03-09T00:00:00.000000000",
          "2022-03-10T00:00:00.000000000",
          "2022-03-11T00:00:00.000000000",
          "2022-03-14T00:00:00.000000000",
          "2022-03-15T00:00:00.000000000",
          "2022-03-16T00:00:00.000000000",
          "2022-03-17T00:00:00.000000000",
          "2022-03-18T00:00:00.000000000",
          "2022-03-21T00:00:00.000000000",
          "2022-03-22T00:00:00.000000000",
          "2022-03-23T00:00:00.000000000",
          "2022-03-24T00:00:00.000000000",
          "2022-03-25T00:00:00.000000000",
          "2022-03-28T00:00:00.000000000",
          "2022-03-29T00:00:00.000000000",
          "2022-03-30T00:00:00.000000000",
          "2022-03-31T00:00:00.000000000",
          "2022-04-01T00:00:00.000000000",
          "2022-04-04T00:00:00.000000000",
          "2022-04-05T00:00:00.000000000",
          "2022-04-06T00:00:00.000000000",
          "2022-04-07T00:00:00.000000000",
          "2022-04-08T00:00:00.000000000",
          "2022-04-11T00:00:00.000000000",
          "2022-04-12T00:00:00.000000000",
          "2022-04-13T00:00:00.000000000",
          "2022-04-14T00:00:00.000000000",
          "2022-04-18T00:00:00.000000000",
          "2022-04-19T00:00:00.000000000",
          "2022-04-20T00:00:00.000000000",
          "2022-04-21T00:00:00.000000000",
          "2022-04-22T00:00:00.000000000",
          "2022-04-25T00:00:00.000000000",
          "2022-04-26T00:00:00.000000000",
          "2022-04-27T00:00:00.000000000",
          "2022-04-28T00:00:00.000000000",
          "2022-04-29T00:00:00.000000000",
          "2022-05-02T00:00:00.000000000",
          "2022-05-03T00:00:00.000000000",
          "2022-05-04T00:00:00.000000000",
          "2022-05-05T00:00:00.000000000",
          "2022-05-06T00:00:00.000000000",
          "2022-05-09T00:00:00.000000000",
          "2022-05-10T00:00:00.000000000",
          "2022-05-11T00:00:00.000000000",
          "2022-05-12T00:00:00.000000000",
          "2022-05-13T00:00:00.000000000",
          "2022-05-16T00:00:00.000000000",
          "2022-05-17T00:00:00.000000000",
          "2022-05-18T00:00:00.000000000",
          "2022-05-19T00:00:00.000000000",
          "2022-05-20T00:00:00.000000000",
          "2022-05-23T00:00:00.000000000",
          "2022-05-24T00:00:00.000000000",
          "2022-05-25T00:00:00.000000000",
          "2022-05-26T00:00:00.000000000",
          "2022-05-27T00:00:00.000000000",
          "2022-05-31T00:00:00.000000000",
          "2022-06-01T00:00:00.000000000",
          "2022-06-02T00:00:00.000000000",
          "2022-06-03T00:00:00.000000000",
          "2022-06-06T00:00:00.000000000",
          "2022-06-07T00:00:00.000000000",
          "2022-06-08T00:00:00.000000000",
          "2022-06-09T00:00:00.000000000",
          "2022-06-10T00:00:00.000000000",
          "2022-06-13T00:00:00.000000000",
          "2022-06-14T00:00:00.000000000",
          "2022-06-15T00:00:00.000000000",
          "2022-06-16T00:00:00.000000000",
          "2022-06-17T00:00:00.000000000",
          "2022-06-21T00:00:00.000000000",
          "2022-06-22T00:00:00.000000000",
          "2022-06-23T00:00:00.000000000",
          "2022-06-24T00:00:00.000000000",
          "2022-06-27T00:00:00.000000000",
          "2022-06-28T00:00:00.000000000",
          "2022-06-29T00:00:00.000000000",
          "2022-06-30T00:00:00.000000000",
          "2022-07-01T00:00:00.000000000",
          "2022-07-05T00:00:00.000000000",
          "2022-07-06T00:00:00.000000000",
          "2022-07-07T00:00:00.000000000",
          "2022-07-08T00:00:00.000000000",
          "2022-07-11T00:00:00.000000000",
          "2022-07-12T00:00:00.000000000",
          "2022-07-13T00:00:00.000000000",
          "2022-07-14T00:00:00.000000000",
          "2022-07-15T00:00:00.000000000",
          "2022-07-18T00:00:00.000000000",
          "2022-07-19T00:00:00.000000000",
          "2022-07-20T00:00:00.000000000",
          "2022-07-21T00:00:00.000000000",
          "2022-07-22T00:00:00.000000000",
          "2022-07-25T00:00:00.000000000",
          "2022-07-26T00:00:00.000000000",
          "2022-07-27T00:00:00.000000000",
          "2022-07-28T00:00:00.000000000",
          "2022-07-29T00:00:00.000000000",
          "2022-08-01T00:00:00.000000000",
          "2022-08-02T00:00:00.000000000",
          "2022-08-03T00:00:00.000000000",
          "2022-08-04T00:00:00.000000000",
          "2022-08-05T00:00:00.000000000",
          "2022-08-08T00:00:00.000000000",
          "2022-08-09T00:00:00.000000000",
          "2022-08-10T00:00:00.000000000",
          "2022-08-11T00:00:00.000000000",
          "2022-08-12T00:00:00.000000000",
          "2022-08-15T00:00:00.000000000",
          "2022-08-16T00:00:00.000000000",
          "2022-08-17T00:00:00.000000000",
          "2022-08-18T00:00:00.000000000",
          "2022-08-19T00:00:00.000000000",
          "2022-08-22T00:00:00.000000000",
          "2022-08-23T00:00:00.000000000",
          "2022-08-24T00:00:00.000000000",
          "2022-08-25T00:00:00.000000000",
          "2022-08-26T00:00:00.000000000",
          "2022-08-29T00:00:00.000000000",
          "2022-08-30T00:00:00.000000000",
          "2022-08-31T00:00:00.000000000",
          "2022-09-01T00:00:00.000000000",
          "2022-09-02T00:00:00.000000000",
          "2022-09-06T00:00:00.000000000",
          "2022-09-07T00:00:00.000000000",
          "2022-09-08T00:00:00.000000000",
          "2022-09-09T00:00:00.000000000",
          "2022-09-12T00:00:00.000000000",
          "2022-09-13T00:00:00.000000000",
          "2022-09-14T00:00:00.000000000",
          "2022-09-15T00:00:00.000000000",
          "2022-09-16T00:00:00.000000000",
          "2022-09-19T00:00:00.000000000",
          "2022-09-20T00:00:00.000000000",
          "2022-09-21T00:00:00.000000000",
          "2022-09-22T00:00:00.000000000",
          "2022-09-23T00:00:00.000000000",
          "2022-09-26T00:00:00.000000000",
          "2022-09-27T00:00:00.000000000",
          "2022-09-28T00:00:00.000000000",
          "2022-09-29T00:00:00.000000000",
          "2022-09-30T00:00:00.000000000",
          "2022-10-03T00:00:00.000000000",
          "2022-10-04T00:00:00.000000000",
          "2022-10-05T00:00:00.000000000",
          "2022-10-06T00:00:00.000000000",
          "2022-10-07T00:00:00.000000000",
          "2022-10-10T00:00:00.000000000",
          "2022-10-11T00:00:00.000000000",
          "2022-10-12T00:00:00.000000000",
          "2022-10-13T00:00:00.000000000",
          "2022-10-14T00:00:00.000000000",
          "2022-10-17T00:00:00.000000000",
          "2022-10-18T00:00:00.000000000",
          "2022-10-19T00:00:00.000000000",
          "2022-10-20T00:00:00.000000000",
          "2022-10-21T00:00:00.000000000",
          "2022-10-24T00:00:00.000000000",
          "2022-10-25T00:00:00.000000000",
          "2022-10-26T00:00:00.000000000",
          "2022-10-27T00:00:00.000000000",
          "2022-10-28T00:00:00.000000000",
          "2022-10-31T00:00:00.000000000",
          "2022-11-01T00:00:00.000000000",
          "2022-11-02T00:00:00.000000000",
          "2022-11-03T00:00:00.000000000",
          "2022-11-04T00:00:00.000000000",
          "2022-11-07T00:00:00.000000000",
          "2022-11-08T00:00:00.000000000",
          "2022-11-09T00:00:00.000000000",
          "2022-11-10T00:00:00.000000000",
          "2022-11-11T00:00:00.000000000",
          "2022-11-14T00:00:00.000000000",
          "2022-11-15T00:00:00.000000000",
          "2022-11-16T00:00:00.000000000",
          "2022-11-17T00:00:00.000000000",
          "2022-11-18T00:00:00.000000000",
          "2022-11-21T00:00:00.000000000",
          "2022-11-22T00:00:00.000000000",
          "2022-11-23T00:00:00.000000000",
          "2022-11-25T00:00:00.000000000",
          "2022-11-28T00:00:00.000000000",
          "2022-11-29T00:00:00.000000000",
          "2022-11-30T00:00:00.000000000",
          "2022-12-01T00:00:00.000000000",
          "2022-12-02T00:00:00.000000000",
          "2022-12-05T00:00:00.000000000",
          "2022-12-06T00:00:00.000000000",
          "2022-12-07T00:00:00.000000000",
          "2022-12-08T00:00:00.000000000"
         ],
         "y": {
          "bdata": "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",
          "dtype": "f8"
         }
        },
        {
         "line": {
          "color": "green"
         },
         "mode": "lines",
         "name": "Trend",
         "type": "scatter",
         "x": [
          "2022-01-25T00:00:00.000000000",
          "2022-01-26T00:00:00.000000000",
          "2022-01-27T00:00:00.000000000",
          "2022-01-28T00:00:00.000000000",
          "2022-01-31T00:00:00.000000000",
          "2022-02-01T00:00:00.000000000",
          "2022-02-02T00:00:00.000000000",
          "2022-02-03T00:00:00.000000000",
          "2022-02-04T00:00:00.000000000",
          "2022-02-07T00:00:00.000000000",
          "2022-02-08T00:00:00.000000000",
          "2022-02-09T00:00:00.000000000",
          "2022-02-10T00:00:00.000000000",
          "2022-02-11T00:00:00.000000000",
          "2022-02-14T00:00:00.000000000",
          "2022-02-15T00:00:00.000000000",
          "2022-02-16T00:00:00.000000000",
          "2022-02-17T00:00:00.000000000",
          "2022-02-18T00:00:00.000000000",
          "2022-02-22T00:00:00.000000000",
          "2022-02-23T00:00:00.000000000",
          "2022-02-24T00:00:00.000000000",
          "2022-02-25T00:00:00.000000000",
          "2022-02-28T00:00:00.000000000",
          "2022-03-01T00:00:00.000000000",
          "2022-03-02T00:00:00.000000000",
          "2022-03-03T00:00:00.000000000",
          "2022-03-04T00:00:00.000000000",
          "2022-03-07T00:00:00.000000000",
          "2022-03-08T00:00:00.000000000",
          "2022-03-09T00:00:00.000000000",
          "2022-03-10T00:00:00.000000000",
          "2022-03-11T00:00:00.000000000",
          "2022-03-14T00:00:00.000000000",
          "2022-03-15T00:00:00.000000000",
          "2022-03-16T00:00:00.000000000",
          "2022-03-17T00:00:00.000000000",
          "2022-03-18T00:00:00.000000000",
          "2022-03-21T00:00:00.000000000",
          "2022-03-22T00:00:00.000000000",
          "2022-03-23T00:00:00.000000000",
          "2022-03-24T00:00:00.000000000",
          "2022-03-25T00:00:00.000000000",
          "2022-03-28T00:00:00.000000000",
          "2022-03-29T00:00:00.000000000",
          "2022-03-30T00:00:00.000000000",
          "2022-03-31T00:00:00.000000000",
          "2022-04-01T00:00:00.000000000",
          "2022-04-04T00:00:00.000000000",
          "2022-04-05T00:00:00.000000000",
          "2022-04-06T00:00:00.000000000",
          "2022-04-07T00:00:00.000000000",
          "2022-04-08T00:00:00.000000000",
          "2022-04-11T00:00:00.000000000",
          "2022-04-12T00:00:00.000000000",
          "2022-04-13T00:00:00.000000000",
          "2022-04-14T00:00:00.000000000",
          "2022-04-18T00:00:00.000000000",
          "2022-04-19T00:00:00.000000000",
          "2022-04-20T00:00:00.000000000",
          "2022-04-21T00:00:00.000000000",
          "2022-04-22T00:00:00.000000000",
          "2022-04-25T00:00:00.000000000",
          "2022-04-26T00:00:00.000000000",
          "2022-04-27T00:00:00.000000000",
          "2022-04-28T00:00:00.000000000",
          "2022-04-29T00:00:00.000000000",
          "2022-05-02T00:00:00.000000000",
          "2022-05-03T00:00:00.000000000",
          "2022-05-04T00:00:00.000000000",
          "2022-05-05T00:00:00.000000000",
          "2022-05-06T00:00:00.000000000",
          "2022-05-09T00:00:00.000000000",
          "2022-05-10T00:00:00.000000000",
          "2022-05-11T00:00:00.000000000",
          "2022-05-12T00:00:00.000000000",
          "2022-05-13T00:00:00.000000000",
          "2022-05-16T00:00:00.000000000",
          "2022-05-17T00:00:00.000000000",
          "2022-05-18T00:00:00.000000000",
          "2022-05-19T00:00:00.000000000",
          "2022-05-20T00:00:00.000000000",
          "2022-05-23T00:00:00.000000000",
          "2022-05-24T00:00:00.000000000",
          "2022-05-25T00:00:00.000000000",
          "2022-05-26T00:00:00.000000000",
          "2022-05-27T00:00:00.000000000",
          "2022-05-31T00:00:00.000000000",
          "2022-06-01T00:00:00.000000000",
          "2022-06-02T00:00:00.000000000",
          "2022-06-03T00:00:00.000000000",
          "2022-06-06T00:00:00.000000000",
          "2022-06-07T00:00:00.000000000",
          "2022-06-08T00:00:00.000000000",
          "2022-06-09T00:00:00.000000000",
          "2022-06-10T00:00:00.000000000",
          "2022-06-13T00:00:00.000000000",
          "2022-06-14T00:00:00.000000000",
          "2022-06-15T00:00:00.000000000",
          "2022-06-16T00:00:00.000000000",
          "2022-06-17T00:00:00.000000000",
          "2022-06-21T00:00:00.000000000",
          "2022-06-22T00:00:00.000000000",
          "2022-06-23T00:00:00.000000000",
          "2022-06-24T00:00:00.000000000",
          "2022-06-27T00:00:00.000000000",
          "2022-06-28T00:00:00.000000000",
          "2022-06-29T00:00:00.000000000",
          "2022-06-30T00:00:00.000000000",
          "2022-07-01T00:00:00.000000000",
          "2022-07-05T00:00:00.000000000",
          "2022-07-06T00:00:00.000000000",
          "2022-07-07T00:00:00.000000000",
          "2022-07-08T00:00:00.000000000",
          "2022-07-11T00:00:00.000000000",
          "2022-07-12T00:00:00.000000000",
          "2022-07-13T00:00:00.000000000",
          "2022-07-14T00:00:00.000000000",
          "2022-07-15T00:00:00.000000000",
          "2022-07-18T00:00:00.000000000",
          "2022-07-19T00:00:00.000000000",
          "2022-07-20T00:00:00.000000000",
          "2022-07-21T00:00:00.000000000",
          "2022-07-22T00:00:00.000000000",
          "2022-07-25T00:00:00.000000000",
          "2022-07-26T00:00:00.000000000",
          "2022-07-27T00:00:00.000000000",
          "2022-07-28T00:00:00.000000000",
          "2022-07-29T00:00:00.000000000",
          "2022-08-01T00:00:00.000000000",
          "2022-08-02T00:00:00.000000000",
          "2022-08-03T00:00:00.000000000",
          "2022-08-04T00:00:00.000000000",
          "2022-08-05T00:00:00.000000000",
          "2022-08-08T00:00:00.000000000",
          "2022-08-09T00:00:00.000000000",
          "2022-08-10T00:00:00.000000000",
          "2022-08-11T00:00:00.000000000",
          "2022-08-12T00:00:00.000000000",
          "2022-08-15T00:00:00.000000000",
          "2022-08-16T00:00:00.000000000",
          "2022-08-17T00:00:00.000000000",
          "2022-08-18T00:00:00.000000000",
          "2022-08-19T00:00:00.000000000",
          "2022-08-22T00:00:00.000000000",
          "2022-08-23T00:00:00.000000000",
          "2022-08-24T00:00:00.000000000",
          "2022-08-25T00:00:00.000000000",
          "2022-08-26T00:00:00.000000000",
          "2022-08-29T00:00:00.000000000",
          "2022-08-30T00:00:00.000000000",
          "2022-08-31T00:00:00.000000000",
          "2022-09-01T00:00:00.000000000",
          "2022-09-02T00:00:00.000000000",
          "2022-09-06T00:00:00.000000000",
          "2022-09-07T00:00:00.000000000",
          "2022-09-08T00:00:00.000000000",
          "2022-09-09T00:00:00.000000000",
          "2022-09-12T00:00:00.000000000",
          "2022-09-13T00:00:00.000000000",
          "2022-09-14T00:00:00.000000000",
          "2022-09-15T00:00:00.000000000",
          "2022-09-16T00:00:00.000000000",
          "2022-09-19T00:00:00.000000000",
          "2022-09-20T00:00:00.000000000",
          "2022-09-21T00:00:00.000000000",
          "2022-09-22T00:00:00.000000000",
          "2022-09-23T00:00:00.000000000",
          "2022-09-26T00:00:00.000000000",
          "2022-09-27T00:00:00.000000000",
          "2022-09-28T00:00:00.000000000",
          "2022-09-29T00:00:00.000000000",
          "2022-09-30T00:00:00.000000000",
          "2022-10-03T00:00:00.000000000",
          "2022-10-04T00:00:00.000000000",
          "2022-10-05T00:00:00.000000000",
          "2022-10-06T00:00:00.000000000",
          "2022-10-07T00:00:00.000000000",
          "2022-10-10T00:00:00.000000000",
          "2022-10-11T00:00:00.000000000",
          "2022-10-12T00:00:00.000000000",
          "2022-10-13T00:00:00.000000000",
          "2022-10-14T00:00:00.000000000",
          "2022-10-17T00:00:00.000000000",
          "2022-10-18T00:00:00.000000000",
          "2022-10-19T00:00:00.000000000",
          "2022-10-20T00:00:00.000000000",
          "2022-10-21T00:00:00.000000000",
          "2022-10-24T00:00:00.000000000",
          "2022-10-25T00:00:00.000000000",
          "2022-10-26T00:00:00.000000000",
          "2022-10-27T00:00:00.000000000",
          "2022-10-28T00:00:00.000000000",
          "2022-10-31T00:00:00.000000000",
          "2022-11-01T00:00:00.000000000",
          "2022-11-02T00:00:00.000000000",
          "2022-11-03T00:00:00.000000000",
          "2022-11-04T00:00:00.000000000",
          "2022-11-07T00:00:00.000000000",
          "2022-11-08T00:00:00.000000000",
          "2022-11-09T00:00:00.000000000",
          "2022-11-10T00:00:00.000000000",
          "2022-11-11T00:00:00.000000000",
          "2022-11-14T00:00:00.000000000",
          "2022-11-15T00:00:00.000000000",
          "2022-11-16T00:00:00.000000000",
          "2022-11-17T00:00:00.000000000",
          "2022-11-18T00:00:00.000000000",
          "2022-11-21T00:00:00.000000000",
          "2022-11-22T00:00:00.000000000",
          "2022-11-23T00:00:00.000000000",
          "2022-11-25T00:00:00.000000000",
          "2022-11-28T00:00:00.000000000",
          "2022-11-29T00:00:00.000000000",
          "2022-11-30T00:00:00.000000000",
          "2022-12-01T00:00:00.000000000",
          "2022-12-02T00:00:00.000000000",
          "2022-12-05T00:00:00.000000000",
          "2022-12-06T00:00:00.000000000",
          "2022-12-07T00:00:00.000000000",
          "2022-12-08T00:00:00.000000000"
         ],
         "y": {
          "bdata": "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",
          "dtype": "f8"
         }
        },
        {
         "line": {
          "color": "red"
         },
         "mode": "lines",
         "name": "Seasonality",
         "type": "scatter",
         "x": [
          "2022-01-25T00:00:00.000000000",
          "2022-01-26T00:00:00.000000000",
          "2022-01-27T00:00:00.000000000",
          "2022-01-28T00:00:00.000000000",
          "2022-01-31T00:00:00.000000000",
          "2022-02-01T00:00:00.000000000",
          "2022-02-02T00:00:00.000000000",
          "2022-02-03T00:00:00.000000000",
          "2022-02-04T00:00:00.000000000",
          "2022-02-07T00:00:00.000000000",
          "2022-02-08T00:00:00.000000000",
          "2022-02-09T00:00:00.000000000",
          "2022-02-10T00:00:00.000000000",
          "2022-02-11T00:00:00.000000000",
          "2022-02-14T00:00:00.000000000",
          "2022-02-15T00:00:00.000000000",
          "2022-02-16T00:00:00.000000000",
          "2022-02-17T00:00:00.000000000",
          "2022-02-18T00:00:00.000000000",
          "2022-02-22T00:00:00.000000000",
          "2022-02-23T00:00:00.000000000",
          "2022-02-24T00:00:00.000000000",
          "2022-02-25T00:00:00.000000000",
          "2022-02-28T00:00:00.000000000",
          "2022-03-01T00:00:00.000000000",
          "2022-03-02T00:00:00.000000000",
          "2022-03-03T00:00:00.000000000",
          "2022-03-04T00:00:00.000000000",
          "2022-03-07T00:00:00.000000000",
          "2022-03-08T00:00:00.000000000",
          "2022-03-09T00:00:00.000000000",
          "2022-03-10T00:00:00.000000000",
          "2022-03-11T00:00:00.000000000",
          "2022-03-14T00:00:00.000000000",
          "2022-03-15T00:00:00.000000000",
          "2022-03-16T00:00:00.000000000",
          "2022-03-17T00:00:00.000000000",
          "2022-03-18T00:00:00.000000000",
          "2022-03-21T00:00:00.000000000",
          "2022-03-22T00:00:00.000000000",
          "2022-03-23T00:00:00.000000000",
          "2022-03-24T00:00:00.000000000",
          "2022-03-25T00:00:00.000000000",
          "2022-03-28T00:00:00.000000000",
          "2022-03-29T00:00:00.000000000",
          "2022-03-30T00:00:00.000000000",
          "2022-03-31T00:00:00.000000000",
          "2022-04-01T00:00:00.000000000",
          "2022-04-04T00:00:00.000000000",
          "2022-04-05T00:00:00.000000000",
          "2022-04-06T00:00:00.000000000",
          "2022-04-07T00:00:00.000000000",
          "2022-04-08T00:00:00.000000000",
          "2022-04-11T00:00:00.000000000",
          "2022-04-12T00:00:00.000000000",
          "2022-04-13T00:00:00.000000000",
          "2022-04-14T00:00:00.000000000",
          "2022-04-18T00:00:00.000000000",
          "2022-04-19T00:00:00.000000000",
          "2022-04-20T00:00:00.000000000",
          "2022-04-21T00:00:00.000000000",
          "2022-04-22T00:00:00.000000000",
          "2022-04-25T00:00:00.000000000",
          "2022-04-26T00:00:00.000000000",
          "2022-04-27T00:00:00.000000000",
          "2022-04-28T00:00:00.000000000",
          "2022-04-29T00:00:00.000000000",
          "2022-05-02T00:00:00.000000000",
          "2022-05-03T00:00:00.000000000",
          "2022-05-04T00:00:00.000000000",
          "2022-05-05T00:00:00.000000000",
          "2022-05-06T00:00:00.000000000",
          "2022-05-09T00:00:00.000000000",
          "2022-05-10T00:00:00.000000000",
          "2022-05-11T00:00:00.000000000",
          "2022-05-12T00:00:00.000000000",
          "2022-05-13T00:00:00.000000000",
          "2022-05-16T00:00:00.000000000",
          "2022-05-17T00:00:00.000000000",
          "2022-05-18T00:00:00.000000000",
          "2022-05-19T00:00:00.000000000",
          "2022-05-20T00:00:00.000000000",
          "2022-05-23T00:00:00.000000000",
          "2022-05-24T00:00:00.000000000",
          "2022-05-25T00:00:00.000000000",
          "2022-05-26T00:00:00.000000000",
          "2022-05-27T00:00:00.000000000",
          "2022-05-31T00:00:00.000000000",
          "2022-06-01T00:00:00.000000000",
          "2022-06-02T00:00:00.000000000",
          "2022-06-03T00:00:00.000000000",
          "2022-06-06T00:00:00.000000000",
          "2022-06-07T00:00:00.000000000",
          "2022-06-08T00:00:00.000000000",
          "2022-06-09T00:00:00.000000000",
          "2022-06-10T00:00:00.000000000",
          "2022-06-13T00:00:00.000000000",
          "2022-06-14T00:00:00.000000000",
          "2022-06-15T00:00:00.000000000",
          "2022-06-16T00:00:00.000000000",
          "2022-06-17T00:00:00.000000000",
          "2022-06-21T00:00:00.000000000",
          "2022-06-22T00:00:00.000000000",
          "2022-06-23T00:00:00.000000000",
          "2022-06-24T00:00:00.000000000",
          "2022-06-27T00:00:00.000000000",
          "2022-06-28T00:00:00.000000000",
          "2022-06-29T00:00:00.000000000",
          "2022-06-30T00:00:00.000000000",
          "2022-07-01T00:00:00.000000000",
          "2022-07-05T00:00:00.000000000",
          "2022-07-06T00:00:00.000000000",
          "2022-07-07T00:00:00.000000000",
          "2022-07-08T00:00:00.000000000",
          "2022-07-11T00:00:00.000000000",
          "2022-07-12T00:00:00.000000000",
          "2022-07-13T00:00:00.000000000",
          "2022-07-14T00:00:00.000000000",
          "2022-07-15T00:00:00.000000000",
          "2022-07-18T00:00:00.000000000",
          "2022-07-19T00:00:00.000000000",
          "2022-07-20T00:00:00.000000000",
          "2022-07-21T00:00:00.000000000",
          "2022-07-22T00:00:00.000000000",
          "2022-07-25T00:00:00.000000000",
          "2022-07-26T00:00:00.000000000",
          "2022-07-27T00:00:00.000000000",
          "2022-07-28T00:00:00.000000000",
          "2022-07-29T00:00:00.000000000",
          "2022-08-01T00:00:00.000000000",
          "2022-08-02T00:00:00.000000000",
          "2022-08-03T00:00:00.000000000",
          "2022-08-04T00:00:00.000000000",
          "2022-08-05T00:00:00.000000000",
          "2022-08-08T00:00:00.000000000",
          "2022-08-09T00:00:00.000000000",
          "2022-08-10T00:00:00.000000000",
          "2022-08-11T00:00:00.000000000",
          "2022-08-12T00:00:00.000000000",
          "2022-08-15T00:00:00.000000000",
          "2022-08-16T00:00:00.000000000",
          "2022-08-17T00:00:00.000000000",
          "2022-08-18T00:00:00.000000000",
          "2022-08-19T00:00:00.000000000",
          "2022-08-22T00:00:00.000000000",
          "2022-08-23T00:00:00.000000000",
          "2022-08-24T00:00:00.000000000",
          "2022-08-25T00:00:00.000000000",
          "2022-08-26T00:00:00.000000000",
          "2022-08-29T00:00:00.000000000",
          "2022-08-30T00:00:00.000000000",
          "2022-08-31T00:00:00.000000000",
          "2022-09-01T00:00:00.000000000",
          "2022-09-02T00:00:00.000000000",
          "2022-09-06T00:00:00.000000000",
          "2022-09-07T00:00:00.000000000",
          "2022-09-08T00:00:00.000000000",
          "2022-09-09T00:00:00.000000000",
          "2022-09-12T00:00:00.000000000",
          "2022-09-13T00:00:00.000000000",
          "2022-09-14T00:00:00.000000000",
          "2022-09-15T00:00:00.000000000",
          "2022-09-16T00:00:00.000000000",
          "2022-09-19T00:00:00.000000000",
          "2022-09-20T00:00:00.000000000",
          "2022-09-21T00:00:00.000000000",
          "2022-09-22T00:00:00.000000000",
          "2022-09-23T00:00:00.000000000",
          "2022-09-26T00:00:00.000000000",
          "2022-09-27T00:00:00.000000000",
          "2022-09-28T00:00:00.000000000",
          "2022-09-29T00:00:00.000000000",
          "2022-09-30T00:00:00.000000000",
          "2022-10-03T00:00:00.000000000",
          "2022-10-04T00:00:00.000000000",
          "2022-10-05T00:00:00.000000000",
          "2022-10-06T00:00:00.000000000",
          "2022-10-07T00:00:00.000000000",
          "2022-10-10T00:00:00.000000000",
          "2022-10-11T00:00:00.000000000",
          "2022-10-12T00:00:00.000000000",
          "2022-10-13T00:00:00.000000000",
          "2022-10-14T00:00:00.000000000",
          "2022-10-17T00:00:00.000000000",
          "2022-10-18T00:00:00.000000000",
          "2022-10-19T00:00:00.000000000",
          "2022-10-20T00:00:00.000000000",
          "2022-10-21T00:00:00.000000000",
          "2022-10-24T00:00:00.000000000",
          "2022-10-25T00:00:00.000000000",
          "2022-10-26T00:00:00.000000000",
          "2022-10-27T00:00:00.000000000",
          "2022-10-28T00:00:00.000000000",
          "2022-10-31T00:00:00.000000000",
          "2022-11-01T00:00:00.000000000",
          "2022-11-02T00:00:00.000000000",
          "2022-11-03T00:00:00.000000000",
          "2022-11-04T00:00:00.000000000",
          "2022-11-07T00:00:00.000000000",
          "2022-11-08T00:00:00.000000000",
          "2022-11-09T00:00:00.000000000",
          "2022-11-10T00:00:00.000000000",
          "2022-11-11T00:00:00.000000000",
          "2022-11-14T00:00:00.000000000",
          "2022-11-15T00:00:00.000000000",
          "2022-11-16T00:00:00.000000000",
          "2022-11-17T00:00:00.000000000",
          "2022-11-18T00:00:00.000000000",
          "2022-11-21T00:00:00.000000000",
          "2022-11-22T00:00:00.000000000",
          "2022-11-23T00:00:00.000000000",
          "2022-11-25T00:00:00.000000000",
          "2022-11-28T00:00:00.000000000",
          "2022-11-29T00:00:00.000000000",
          "2022-11-30T00:00:00.000000000",
          "2022-12-01T00:00:00.000000000",
          "2022-12-02T00:00:00.000000000",
          "2022-12-05T00:00:00.000000000",
          "2022-12-06T00:00:00.000000000",
          "2022-12-07T00:00:00.000000000",
          "2022-12-08T00:00:00.000000000"
         ],
         "y": {
          "bdata": "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",
          "dtype": "f8"
         }
        },
        {
         "line": {
          "color": "blue"
         },
         "mode": "lines",
         "name": "Residual",
         "type": "scatter",
         "x": [
          "2022-01-25T00:00:00.000000000",
          "2022-01-26T00:00:00.000000000",
          "2022-01-27T00:00:00.000000000",
          "2022-01-28T00:00:00.000000000",
          "2022-01-31T00:00:00.000000000",
          "2022-02-01T00:00:00.000000000",
          "2022-02-02T00:00:00.000000000",
          "2022-02-03T00:00:00.000000000",
          "2022-02-04T00:00:00.000000000",
          "2022-02-07T00:00:00.000000000",
          "2022-02-08T00:00:00.000000000",
          "2022-02-09T00:00:00.000000000",
          "2022-02-10T00:00:00.000000000",
          "2022-02-11T00:00:00.000000000",
          "2022-02-14T00:00:00.000000000",
          "2022-02-15T00:00:00.000000000",
          "2022-02-16T00:00:00.000000000",
          "2022-02-17T00:00:00.000000000",
          "2022-02-18T00:00:00.000000000",
          "2022-02-22T00:00:00.000000000",
          "2022-02-23T00:00:00.000000000",
          "2022-02-24T00:00:00.000000000",
          "2022-02-25T00:00:00.000000000",
          "2022-02-28T00:00:00.000000000",
          "2022-03-01T00:00:00.000000000",
          "2022-03-02T00:00:00.000000000",
          "2022-03-03T00:00:00.000000000",
          "2022-03-04T00:00:00.000000000",
          "2022-03-07T00:00:00.000000000",
          "2022-03-08T00:00:00.000000000",
          "2022-03-09T00:00:00.000000000",
          "2022-03-10T00:00:00.000000000",
          "2022-03-11T00:00:00.000000000",
          "2022-03-14T00:00:00.000000000",
          "2022-03-15T00:00:00.000000000",
          "2022-03-16T00:00:00.000000000",
          "2022-03-17T00:00:00.000000000",
          "2022-03-18T00:00:00.000000000",
          "2022-03-21T00:00:00.000000000",
          "2022-03-22T00:00:00.000000000",
          "2022-03-23T00:00:00.000000000",
          "2022-03-24T00:00:00.000000000",
          "2022-03-25T00:00:00.000000000",
          "2022-03-28T00:00:00.000000000",
          "2022-03-29T00:00:00.000000000",
          "2022-03-30T00:00:00.000000000",
          "2022-03-31T00:00:00.000000000",
          "2022-04-01T00:00:00.000000000",
          "2022-04-04T00:00:00.000000000",
          "2022-04-05T00:00:00.000000000",
          "2022-04-06T00:00:00.000000000",
          "2022-04-07T00:00:00.000000000",
          "2022-04-08T00:00:00.000000000",
          "2022-04-11T00:00:00.000000000",
          "2022-04-12T00:00:00.000000000",
          "2022-04-13T00:00:00.000000000",
          "2022-04-14T00:00:00.000000000",
          "2022-04-18T00:00:00.000000000",
          "2022-04-19T00:00:00.000000000",
          "2022-04-20T00:00:00.000000000",
          "2022-04-21T00:00:00.000000000",
          "2022-04-22T00:00:00.000000000",
          "2022-04-25T00:00:00.000000000",
          "2022-04-26T00:00:00.000000000",
          "2022-04-27T00:00:00.000000000",
          "2022-04-28T00:00:00.000000000",
          "2022-04-29T00:00:00.000000000",
          "2022-05-02T00:00:00.000000000",
          "2022-05-03T00:00:00.000000000",
          "2022-05-04T00:00:00.000000000",
          "2022-05-05T00:00:00.000000000",
          "2022-05-06T00:00:00.000000000",
          "2022-05-09T00:00:00.000000000",
          "2022-05-10T00:00:00.000000000",
          "2022-05-11T00:00:00.000000000",
          "2022-05-12T00:00:00.000000000",
          "2022-05-13T00:00:00.000000000",
          "2022-05-16T00:00:00.000000000",
          "2022-05-17T00:00:00.000000000",
          "2022-05-18T00:00:00.000000000",
          "2022-05-19T00:00:00.000000000",
          "2022-05-20T00:00:00.000000000",
          "2022-05-23T00:00:00.000000000",
          "2022-05-24T00:00:00.000000000",
          "2022-05-25T00:00:00.000000000",
          "2022-05-26T00:00:00.000000000",
          "2022-05-27T00:00:00.000000000",
          "2022-05-31T00:00:00.000000000",
          "2022-06-01T00:00:00.000000000",
          "2022-06-02T00:00:00.000000000",
          "2022-06-03T00:00:00.000000000",
          "2022-06-06T00:00:00.000000000",
          "2022-06-07T00:00:00.000000000",
          "2022-06-08T00:00:00.000000000",
          "2022-06-09T00:00:00.000000000",
          "2022-06-10T00:00:00.000000000",
          "2022-06-13T00:00:00.000000000",
          "2022-06-14T00:00:00.000000000",
          "2022-06-15T00:00:00.000000000",
          "2022-06-16T00:00:00.000000000",
          "2022-06-17T00:00:00.000000000",
          "2022-06-21T00:00:00.000000000",
          "2022-06-22T00:00:00.000000000",
          "2022-06-23T00:00:00.000000000",
          "2022-06-24T00:00:00.000000000",
          "2022-06-27T00:00:00.000000000",
          "2022-06-28T00:00:00.000000000",
          "2022-06-29T00:00:00.000000000",
          "2022-06-30T00:00:00.000000000",
          "2022-07-01T00:00:00.000000000",
          "2022-07-05T00:00:00.000000000",
          "2022-07-06T00:00:00.000000000",
          "2022-07-07T00:00:00.000000000",
          "2022-07-08T00:00:00.000000000",
          "2022-07-11T00:00:00.000000000",
          "2022-07-12T00:00:00.000000000",
          "2022-07-13T00:00:00.000000000",
          "2022-07-14T00:00:00.000000000",
          "2022-07-15T00:00:00.000000000",
          "2022-07-18T00:00:00.000000000",
          "2022-07-19T00:00:00.000000000",
          "2022-07-20T00:00:00.000000000",
          "2022-07-21T00:00:00.000000000",
          "2022-07-22T00:00:00.000000000",
          "2022-07-25T00:00:00.000000000",
          "2022-07-26T00:00:00.000000000",
          "2022-07-27T00:00:00.000000000",
          "2022-07-28T00:00:00.000000000",
          "2022-07-29T00:00:00.000000000",
          "2022-08-01T00:00:00.000000000",
          "2022-08-02T00:00:00.000000000",
          "2022-08-03T00:00:00.000000000",
          "2022-08-04T00:00:00.000000000",
          "2022-08-05T00:00:00.000000000",
          "2022-08-08T00:00:00.000000000",
          "2022-08-09T00:00:00.000000000",
          "2022-08-10T00:00:00.000000000",
          "2022-08-11T00:00:00.000000000",
          "2022-08-12T00:00:00.000000000",
          "2022-08-15T00:00:00.000000000",
          "2022-08-16T00:00:00.000000000",
          "2022-08-17T00:00:00.000000000",
          "2022-08-18T00:00:00.000000000",
          "2022-08-19T00:00:00.000000000",
          "2022-08-22T00:00:00.000000000",
          "2022-08-23T00:00:00.000000000",
          "2022-08-24T00:00:00.000000000",
          "2022-08-25T00:00:00.000000000",
          "2022-08-26T00:00:00.000000000",
          "2022-08-29T00:00:00.000000000",
          "2022-08-30T00:00:00.000000000",
          "2022-08-31T00:00:00.000000000",
          "2022-09-01T00:00:00.000000000",
          "2022-09-02T00:00:00.000000000",
          "2022-09-06T00:00:00.000000000",
          "2022-09-07T00:00:00.000000000",
          "2022-09-08T00:00:00.000000000",
          "2022-09-09T00:00:00.000000000",
          "2022-09-12T00:00:00.000000000",
          "2022-09-13T00:00:00.000000000",
          "2022-09-14T00:00:00.000000000",
          "2022-09-15T00:00:00.000000000",
          "2022-09-16T00:00:00.000000000",
          "2022-09-19T00:00:00.000000000",
          "2022-09-20T00:00:00.000000000",
          "2022-09-21T00:00:00.000000000",
          "2022-09-22T00:00:00.000000000",
          "2022-09-23T00:00:00.000000000",
          "2022-09-26T00:00:00.000000000",
          "2022-09-27T00:00:00.000000000",
          "2022-09-28T00:00:00.000000000",
          "2022-09-29T00:00:00.000000000",
          "2022-09-30T00:00:00.000000000",
          "2022-10-03T00:00:00.000000000",
          "2022-10-04T00:00:00.000000000",
          "2022-10-05T00:00:00.000000000",
          "2022-10-06T00:00:00.000000000",
          "2022-10-07T00:00:00.000000000",
          "2022-10-10T00:00:00.000000000",
          "2022-10-11T00:00:00.000000000",
          "2022-10-12T00:00:00.000000000",
          "2022-10-13T00:00:00.000000000",
          "2022-10-14T00:00:00.000000000",
          "2022-10-17T00:00:00.000000000",
          "2022-10-18T00:00:00.000000000",
          "2022-10-19T00:00:00.000000000",
          "2022-10-20T00:00:00.000000000",
          "2022-10-21T00:00:00.000000000",
          "2022-10-24T00:00:00.000000000",
          "2022-10-25T00:00:00.000000000",
          "2022-10-26T00:00:00.000000000",
          "2022-10-27T00:00:00.000000000",
          "2022-10-28T00:00:00.000000000",
          "2022-10-31T00:00:00.000000000",
          "2022-11-01T00:00:00.000000000",
          "2022-11-02T00:00:00.000000000",
          "2022-11-03T00:00:00.000000000",
          "2022-11-04T00:00:00.000000000",
          "2022-11-07T00:00:00.000000000",
          "2022-11-08T00:00:00.000000000",
          "2022-11-09T00:00:00.000000000",
          "2022-11-10T00:00:00.000000000",
          "2022-11-11T00:00:00.000000000",
          "2022-11-14T00:00:00.000000000",
          "2022-11-15T00:00:00.000000000",
          "2022-11-16T00:00:00.000000000",
          "2022-11-17T00:00:00.000000000",
          "2022-11-18T00:00:00.000000000",
          "2022-11-21T00:00:00.000000000",
          "2022-11-22T00:00:00.000000000",
          "2022-11-23T00:00:00.000000000",
          "2022-11-25T00:00:00.000000000",
          "2022-11-28T00:00:00.000000000",
          "2022-11-29T00:00:00.000000000",
          "2022-11-30T00:00:00.000000000",
          "2022-12-01T00:00:00.000000000",
          "2022-12-02T00:00:00.000000000",
          "2022-12-05T00:00:00.000000000",
          "2022-12-06T00:00:00.000000000",
          "2022-12-07T00:00:00.000000000",
          "2022-12-08T00:00:00.000000000"
         ],
         "y": {
          "bdata": "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",
          "dtype": "f8"
         }
        }
       ],
       "layout": {
        "height": 700,
        "legend": {
         "orientation": "h"
        },
        "template": {
         "data": {
          "bar": [
           {
            "error_x": {
             "color": "#f2f5fa"
            },
            "error_y": {
             "color": "#f2f5fa"
            },
            "marker": {
             "line": {
              "color": "rgb(17,17,17)",
              "width": 0.5
             },
             "pattern": {
              "fillmode": "overlay",
              "size": 10,
              "solidity": 0.2
             }
            },
            "type": "bar"
           }
          ],
          "barpolar": [
           {
            "marker": {
             "line": {
              "color": "rgb(17,17,17)",
              "width": 0.5
             },
             "pattern": {
              "fillmode": "overlay",
              "size": 10,
              "solidity": 0.2
             }
            },
            "type": "barpolar"
           }
          ],
          "carpet": [
           {
            "aaxis": {
             "endlinecolor": "#A2B1C6",
             "gridcolor": "#506784",
             "linecolor": "#506784",
             "minorgridcolor": "#506784",
             "startlinecolor": "#A2B1C6"
            },
            "baxis": {
             "endlinecolor": "#A2B1C6",
             "gridcolor": "#506784",
             "linecolor": "#506784",
             "minorgridcolor": "#506784",
             "startlinecolor": "#A2B1C6"
            },
            "type": "carpet"
           }
          ],
          "choropleth": [
           {
            "colorbar": {
             "outlinewidth": 0,
             "ticks": ""
            },
            "type": "choropleth"
           }
          ],
          "contour": [
           {
            "colorbar": {
             "outlinewidth": 0,
             "ticks": ""
            },
            "colorscale": [
             [
              0,
              "#0d0887"
             ],
             [
              0.1111111111111111,
              "#46039f"
             ],
             [
              0.2222222222222222,
              "#7201a8"
             ],
             [
              0.3333333333333333,
              "#9c179e"
             ],
             [
              0.4444444444444444,
              "#bd3786"
             ],
             [
              0.5555555555555556,
              "#d8576b"
             ],
             [
              0.6666666666666666,
              "#ed7953"
             ],
             [
              0.7777777777777778,
              "#fb9f3a"
             ],
             [
              0.8888888888888888,
              "#fdca26"
             ],
             [
              1,
              "#f0f921"
             ]
            ],
            "type": "contour"
           }
          ],
          "contourcarpet": [
           {
            "colorbar": {
             "outlinewidth": 0,
             "ticks": ""
            },
            "type": "contourcarpet"
           }
          ],
          "heatmap": [
           {
            "colorbar": {
             "outlinewidth": 0,
             "ticks": ""
            },
            "colorscale": [
             [
              0,
              "#0d0887"
             ],
             [
              0.1111111111111111,
              "#46039f"
             ],
             [
              0.2222222222222222,
              "#7201a8"
             ],
             [
              0.3333333333333333,
              "#9c179e"
             ],
             [
              0.4444444444444444,
              "#bd3786"
             ],
             [
              0.5555555555555556,
              "#d8576b"
             ],
             [
              0.6666666666666666,
              "#ed7953"
             ],
             [
              0.7777777777777778,
              "#fb9f3a"
             ],
             [
              0.8888888888888888,
              "#fdca26"
             ],
             [
              1,
              "#f0f921"
             ]
            ],
            "type": "heatmap"
           }
          ],
          "histogram": [
           {
            "marker": {
             "pattern": {
              "fillmode": "overlay",
              "size": 10,
              "solidity": 0.2
             }
            },
            "type": "histogram"
           }
          ],
          "histogram2d": [
           {
            "colorbar": {
             "outlinewidth": 0,
             "ticks": ""
            },
            "colorscale": [
             [
              0,
              "#0d0887"
             ],
             [
              0.1111111111111111,
              "#46039f"
             ],
             [
              0.2222222222222222,
              "#7201a8"
             ],
             [
              0.3333333333333333,
              "#9c179e"
             ],
             [
              0.4444444444444444,
              "#bd3786"
             ],
             [
              0.5555555555555556,
              "#d8576b"
             ],
             [
              0.6666666666666666,
              "#ed7953"
             ],
             [
              0.7777777777777778,
              "#fb9f3a"
             ],
             [
              0.8888888888888888,
              "#fdca26"
             ],
             [
              1,
              "#f0f921"
             ]
            ],
            "type": "histogram2d"
           }
          ],
          "histogram2dcontour": [
           {
            "colorbar": {
             "outlinewidth": 0,
             "ticks": ""
            },
            "colorscale": [
             [
              0,
              "#0d0887"
             ],
             [
              0.1111111111111111,
              "#46039f"
             ],
             [
              0.2222222222222222,
              "#7201a8"
             ],
             [
              0.3333333333333333,
              "#9c179e"
             ],
             [
              0.4444444444444444,
              "#bd3786"
             ],
             [
              0.5555555555555556,
              "#d8576b"
             ],
             [
              0.6666666666666666,
              "#ed7953"
             ],
             [
              0.7777777777777778,
              "#fb9f3a"
             ],
             [
              0.8888888888888888,
              "#fdca26"
             ],
             [
              1,
              "#f0f921"
             ]
            ],
            "type": "histogram2dcontour"
           }
          ],
          "mesh3d": [
           {
            "colorbar": {
             "outlinewidth": 0,
             "ticks": ""
            },
            "type": "mesh3d"
           }
          ],
          "parcoords": [
           {
            "line": {
             "colorbar": {
              "outlinewidth": 0,
              "ticks": ""
             }
            },
            "type": "parcoords"
           }
          ],
          "pie": [
           {
            "automargin": true,
            "type": "pie"
           }
          ],
          "scatter": [
           {
            "marker": {
             "line": {
              "color": "#283442"
             }
            },
            "type": "scatter"
           }
          ],
          "scatter3d": [
           {
            "line": {
             "colorbar": {
              "outlinewidth": 0,
              "ticks": ""
             }
            },
            "marker": {
             "colorbar": {
              "outlinewidth": 0,
              "ticks": ""
             }
            },
            "type": "scatter3d"
           }
          ],
          "scattercarpet": [
           {
            "marker": {
             "colorbar": {
              "outlinewidth": 0,
              "ticks": ""
             }
            },
            "type": "scattercarpet"
           }
          ],
          "scattergeo": [
           {
            "marker": {
             "colorbar": {
              "outlinewidth": 0,
              "ticks": ""
             }
            },
            "type": "scattergeo"
           }
          ],
          "scattergl": [
           {
            "marker": {
             "line": {
              "color": "#283442"
             }
            },
            "type": "scattergl"
           }
          ],
          "scattermap": [
           {
            "marker": {
             "colorbar": {
              "outlinewidth": 0,
              "ticks": ""
             }
            },
            "type": "scattermap"
           }
          ],
          "scattermapbox": [
           {
            "marker": {
             "colorbar": {
              "outlinewidth": 0,
              "ticks": ""
             }
            },
            "type": "scattermapbox"
           }
          ],
          "scatterpolar": [
           {
            "marker": {
             "colorbar": {
              "outlinewidth": 0,
              "ticks": ""
             }
            },
            "type": "scatterpolar"
           }
          ],
          "scatterpolargl": [
           {
            "marker": {
             "colorbar": {
              "outlinewidth": 0,
              "ticks": ""
             }
            },
            "type": "scatterpolargl"
           }
          ],
          "scatterternary": [
           {
            "marker": {
             "colorbar": {
              "outlinewidth": 0,
              "ticks": ""
             }
            },
            "type": "scatterternary"
           }
          ],
          "surface": [
           {
            "colorbar": {
             "outlinewidth": 0,
             "ticks": ""
            },
            "colorscale": [
             [
              0,
              "#0d0887"
             ],
             [
              0.1111111111111111,
              "#46039f"
             ],
             [
              0.2222222222222222,
              "#7201a8"
             ],
             [
              0.3333333333333333,
              "#9c179e"
             ],
             [
              0.4444444444444444,
              "#bd3786"
             ],
             [
              0.5555555555555556,
              "#d8576b"
             ],
             [
              0.6666666666666666,
              "#ed7953"
             ],
             [
              0.7777777777777778,
              "#fb9f3a"
             ],
             [
              0.8888888888888888,
              "#fdca26"
             ],
             [
              1,
              "#f0f921"
             ]
            ],
            "type": "surface"
           }
          ],
          "table": [
           {
            "cells": {
             "fill": {
              "color": "#506784"
             },
             "line": {
              "color": "rgb(17,17,17)"
             }
            },
            "header": {
             "fill": {
              "color": "#2a3f5f"
             },
             "line": {
              "color": "rgb(17,17,17)"
             }
            },
            "type": "table"
           }
          ]
         },
         "layout": {
          "annotationdefaults": {
           "arrowcolor": "#f2f5fa",
           "arrowhead": 0,
           "arrowwidth": 1
          },
          "autotypenumbers": "strict",
          "coloraxis": {
           "colorbar": {
            "outlinewidth": 0,
            "ticks": ""
           }
          },
          "colorscale": {
           "diverging": [
            [
             0,
             "#8e0152"
            ],
            [
             0.1,
             "#c51b7d"
            ],
            [
             0.2,
             "#de77ae"
            ],
            [
             0.3,
             "#f1b6da"
            ],
            [
             0.4,
             "#fde0ef"
            ],
            [
             0.5,
             "#f7f7f7"
            ],
            [
             0.6,
             "#e6f5d0"
            ],
            [
             0.7,
             "#b8e186"
            ],
            [
             0.8,
             "#7fbc41"
            ],
            [
             0.9,
             "#4d9221"
            ],
            [
             1,
             "#276419"
            ]
           ],
           "sequential": [
            [
             0,
             "#0d0887"
            ],
            [
             0.1111111111111111,
             "#46039f"
            ],
            [
             0.2222222222222222,
             "#7201a8"
            ],
            [
             0.3333333333333333,
             "#9c179e"
            ],
            [
             0.4444444444444444,
             "#bd3786"
            ],
            [
             0.5555555555555556,
             "#d8576b"
            ],
            [
             0.6666666666666666,
             "#ed7953"
            ],
            [
             0.7777777777777778,
             "#fb9f3a"
            ],
            [
             0.8888888888888888,
             "#fdca26"
            ],
            [
             1,
             "#f0f921"
            ]
           ],
           "sequentialminus": [
            [
             0,
             "#0d0887"
            ],
            [
             0.1111111111111111,
             "#46039f"
            ],
            [
             0.2222222222222222,
             "#7201a8"
            ],
            [
             0.3333333333333333,
             "#9c179e"
            ],
            [
             0.4444444444444444,
             "#bd3786"
            ],
            [
             0.5555555555555556,
             "#d8576b"
            ],
            [
             0.6666666666666666,
             "#ed7953"
            ],
            [
             0.7777777777777778,
             "#fb9f3a"
            ],
            [
             0.8888888888888888,
             "#fdca26"
            ],
            [
             1,
             "#f0f921"
            ]
           ]
          },
          "colorway": [
           "#636efa",
           "#EF553B",
           "#00cc96",
           "#ab63fa",
           "#FFA15A",
           "#19d3f3",
           "#FF6692",
           "#B6E880",
           "#FF97FF",
           "#FECB52"
          ],
          "font": {
           "color": "#f2f5fa"
          },
          "geo": {
           "bgcolor": "rgb(17,17,17)",
           "lakecolor": "rgb(17,17,17)",
           "landcolor": "rgb(17,17,17)",
           "showlakes": true,
           "showland": true,
           "subunitcolor": "#506784"
          },
          "hoverlabel": {
           "align": "left"
          },
          "hovermode": "closest",
          "mapbox": {
           "style": "dark"
          },
          "paper_bgcolor": "rgb(17,17,17)",
          "plot_bgcolor": "rgb(17,17,17)",
          "polar": {
           "angularaxis": {
            "gridcolor": "#506784",
            "linecolor": "#506784",
            "ticks": ""
           },
           "bgcolor": "rgb(17,17,17)",
           "radialaxis": {
            "gridcolor": "#506784",
            "linecolor": "#506784",
            "ticks": ""
           }
          },
          "scene": {
           "xaxis": {
            "backgroundcolor": "rgb(17,17,17)",
            "gridcolor": "#506784",
            "gridwidth": 2,
            "linecolor": "#506784",
            "showbackground": true,
            "ticks": "",
            "zerolinecolor": "#C8D4E3"
           },
           "yaxis": {
            "backgroundcolor": "rgb(17,17,17)",
            "gridcolor": "#506784",
            "gridwidth": 2,
            "linecolor": "#506784",
            "showbackground": true,
            "ticks": "",
            "zerolinecolor": "#C8D4E3"
           },
           "zaxis": {
            "backgroundcolor": "rgb(17,17,17)",
            "gridcolor": "#506784",
            "gridwidth": 2,
            "linecolor": "#506784",
            "showbackground": true,
            "ticks": "",
            "zerolinecolor": "#C8D4E3"
           }
          },
          "shapedefaults": {
           "line": {
            "color": "#f2f5fa"
           }
          },
          "sliderdefaults": {
           "bgcolor": "#C8D4E3",
           "bordercolor": "rgb(17,17,17)",
           "borderwidth": 1,
           "tickwidth": 0
          },
          "ternary": {
           "aaxis": {
            "gridcolor": "#506784",
            "linecolor": "#506784",
            "ticks": ""
           },
           "baxis": {
            "gridcolor": "#506784",
            "linecolor": "#506784",
            "ticks": ""
           },
           "bgcolor": "rgb(17,17,17)",
           "caxis": {
            "gridcolor": "#506784",
            "linecolor": "#506784",
            "ticks": ""
           }
          },
          "title": {
           "x": 0.05
          },
          "updatemenudefaults": {
           "bgcolor": "#506784",
           "borderwidth": 0
          },
          "xaxis": {
           "automargin": true,
           "gridcolor": "#283442",
           "linecolor": "#506784",
           "ticks": "",
           "title": {
            "standoff": 15
           },
           "zerolinecolor": "#283442",
           "zerolinewidth": 2
          },
          "yaxis": {
           "automargin": true,
           "gridcolor": "#283442",
           "linecolor": "#506784",
           "ticks": "",
           "title": {
            "standoff": 15
           },
           "zerolinecolor": "#283442",
           "zerolinewidth": 2
          }
         }
        },
        "title": {
         "text": "AAPL Stock Price Over Time"
        },
        "width": 1500,
        "xaxis": {
         "title": {
          "text": "Date"
         }
        },
        "yaxis": {
         "title": {
          "text": "Close Price"
         }
        }
       }
      }
     },
     "metadata": {},
     "output_type": "display_data"
    }
   ],
   "source": [
    "from statsmodels.tsa.seasonal import seasonal_decompose\n",
    "import yfinance as yf \n",
    "import pandas as pd \n",
    "import numpy as np\n",
    "import plotly.graph_objects as go\n",
    "\n",
    "# Download data\n",
    "stock_data = yf.download(\"AAPL\", start=\"2022-01-01\", end=\"2022-12-31\")\n",
    "\n",
    "# Ensure 'Close' is a Series, not a single-column DataFrame\n",
    "close_series = stock_data['Close'].squeeze()  # .squeeze() converts (N,1) -> (N,)\n",
    "\n",
    "# Decompose the series\n",
    "decomposition_additive = seasonal_decompose(close_series, model='additive', period=30)\n",
    "\n",
    "# Get components\n",
    "trend_additive = decomposition_additive.trend\n",
    "seasonal_additive = decomposition_additive.seasonal\n",
    "residual_additive = decomposition_additive.resid\n",
    "\n",
    "# Combine and drop NaNs\n",
    "df_decomposed = pd.DataFrame({\n",
    "    'Close': close_series,\n",
    "    'Trend': trend_additive,\n",
    "    'Seasonal': seasonal_additive,\n",
    "    'Residual': residual_additive\n",
    "}).dropna()\n",
    "\n",
    "# Plot\n",
    "fig = go.Figure()\n",
    "\n",
    "fig.add_trace(go.Scatter(\n",
    "    x=df_decomposed.index,\n",
    "    y=df_decomposed['Close'],\n",
    "    name='Close Price',\n",
    "    mode='lines',\n",
    "    line=dict(color='orange')\n",
    "))\n",
    "\n",
    "fig.add_trace(go.Scatter(\n",
    "    x=df_decomposed.index,\n",
    "    y=df_decomposed['Trend'],\n",
    "    name='Trend',\n",
    "    mode='lines',\n",
    "    line=dict(color='green')\n",
    "))\n",
    "\n",
    "fig.add_trace(go.Scatter(\n",
    "    x=df_decomposed.index,\n",
    "    y=df_decomposed['Seasonal'],\n",
    "    name='Seasonality',\n",
    "    mode='lines',\n",
    "    line=dict(color='red')\n",
    "))\n",
    "\n",
    "fig.add_trace(go.Scatter(\n",
    "    x=df_decomposed.index,\n",
    "    y=df_decomposed['Residual'],\n",
    "    name='Residual',\n",
    "    mode='lines',\n",
    "    line=dict(color='blue')\n",
    "))\n",
    "\n",
    "fig.update_layout(\n",
    "    title='AAPL Stock Price Over Time',\n",
    "    xaxis_title='Date',\n",
    "    yaxis_title='Close Price',\n",
    "    template='plotly_dark',\n",
    "    width=1500,\n",
    "    height=700,\n",
    "    legend=dict(orientation='h')\n",
    ")\n",
    "\n",
    "fig.show()\n",
    "\n"
   ]
  },
  {
   "cell_type": "markdown",
   "id": "4458b716",
   "metadata": {},
   "source": [
    "**LOESS Method**\n",
    "================\n",
    "\n",
    "**What is LOESS?**\n",
    "----------------\n",
    "\n",
    "LOESS (Locally Estimated Scatterplot Smoothing) is a statistical method for smoothing a scatterplot by fitting a non-parametric regression curve to the data. It is a popular method for visualizing and analyzing the relationship between two variables.\n",
    "\n",
    "**How does LOESS work?**\n",
    "----------------------\n",
    "\n",
    "LOESS works by fitting a weighted least squares regression line to the data in a local neighborhood around each point. The weights are determined by a kernel function, which assigns more weight to points that are closer to the point of interest. The size of the neighborhood is controlled by a smoothing parameter, which determines the amount of smoothing applied to the data.\n",
    "\n",
    "**Advantages of LOESS**\n",
    "----------------------\n",
    "\n",
    "* **Flexibility**: LOESS can handle non-linear relationships between variables.\n",
    "* **Robustness**: LOESS is robust to outliers and non-normal data.\n",
    "* **Interpretability**: LOESS provides a clear visual representation of the relationship between variables.\n",
    "\n",
    "**Disadvantages of LOESS**\n",
    "-----------------------\n",
    "\n",
    "* **Computational intensity**: LOESS can be computationally intensive for large datasets.\n",
    "* **Choice of smoothing parameter**: The choice of smoothing parameter can affect the results.\n",
    "\n",
    "**Common Applications of LOESS**\n",
    "------------------------------\n",
    "\n",
    "* **Data visualization**: LOESS is often used to visualize the relationship between two variables.\n",
    "* **Time series analysis**: LOESS can be used to smooth time series data.\n",
    "* **Regression analysis**: LOESS can be used as a non-parametric alternative to traditional regression methods.\n"
   ]
  },
  {
   "cell_type": "code",
   "execution_count": null,
   "id": "c222d44c",
   "metadata": {},
   "outputs": [],
   "source": [
    "# Example code\n"
   ]
  },
  {
   "cell_type": "markdown",
   "id": "3576dd00",
   "metadata": {},
   "source": [
    "**Checking Stationarity**\n",
    "=========================\n",
    "\n",
    "#### 1. Visual Inspection \n",
    "\n",
    "* **Trends**: If the mean temperature rises/falls over time → **Non-stationary**.\n",
    "* **Seasonality**: Repeated patterns (e.g., daily/yearly cycles) → **Non-stationary**.\n",
    "\n",
    "#### Your Plot Shows:\n",
    "\n",
    "* **Variability**: Fluctuations suggest changing mean/variance.\n",
    "* **Possible Seasonality**: Peaks/valleys at regular intervals (e.g., weekly/monthly)."
   ]
  },
  {
   "cell_type": "markdown",
   "id": "068e1c91",
   "metadata": {},
   "source": [
    "## Augmented Dickey-Fuller (ADF) Test\n",
    "\n",
    "## **Purpose**\n",
    "The ADF test is a statistical hypothesis test used to determine whether a given **time series is stationary** (i.e., has no unit root). It is a key tool in econometrics and time series forecasting.\n",
    "\n",
    "---\n",
    "\n",
    "### **Null and Alternative Hypotheses**\n",
    "- **Null Hypothesis (H₀):**  \n",
    "  The time series has a unit root (i.e., it is **non-stationary**).\n",
    "- **Alternative Hypothesis (H₁):**  \n",
    "  The time series does not have a unit root (i.e., it is **stationary**).\n",
    "\n",
    "---\n",
    "\n",
    "### **Test Statistic and Critical Values**\n",
    "- The ADF test computes a **test statistic** (e.g., `-2.73`). \n",
    "- More negative means more likely to be stationary.  \n",
    "- Compare this value to **critical values** (e.g., `1%: -3.43`, `5%: -2.86`, `10%: -2.57`).  \n",
    "- **Decision Rule:**  \n",
    "  - If the test statistic < critical value → **Reject H₀** (series is stationary).  \n",
    "  - If the test statistic > critical value → **Fail to reject H₀** (series is non-stationary).\n",
    "\n",
    "---\n",
    "\n",
    "### **Interpretation of p-value**\n",
    "- **p-value < 0.05:** Strong evidence against H₀ (stationary).  \n",
    "- **p-value ≥ 0.05:** Weak evidence against H₀ (non-stationary).\n",
    "\n",
    "---\n",
    "\n",
    "### **Python Implementation (using `statsmodels`)**\n",
    "```python\n",
    "from statsmodels.tsa.stattools import adfuller\n",
    "\n",
    "# Example usage:\n",
    "result = adfuller(time_series_data, autolag='AIC')\n",
    "print(f\"ADF Statistic: {result[0]}\")\n",
    "print(f\"p-value: {result[1]}\")\n",
    "print(\"Critical Values:\")\n",
    "for key, value in result[4].items():\n",
    "    print(f\"\\t{key}: {value}\")"
   ]
  }
 ],
 "metadata": {
  "kernelspec": {
   "display_name": "Python 3",
   "language": "python",
   "name": "python3"
  },
  "language_info": {
   "codemirror_mode": {
    "name": "ipython",
    "version": 3
   },
   "file_extension": ".py",
   "mimetype": "text/x-python",
   "name": "python",
   "nbconvert_exporter": "python",
   "pygments_lexer": "ipython3",
   "version": "3.11.9"
  }
 },
 "nbformat": 4,
 "nbformat_minor": 5
}
