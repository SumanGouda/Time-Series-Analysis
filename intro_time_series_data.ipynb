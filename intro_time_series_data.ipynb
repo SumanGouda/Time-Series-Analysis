{
 "cells": [
  {
   "cell_type": "markdown",
   "id": "91721a3f",
   "metadata": {},
   "source": [
    "## Time Series Data \n",
    "**Time Series Data**\n",
    "* Time series data is a sequence of data points measured at regular time intervals, typically with a temporal relationship between them. This type of data is commonly used in fields such as finance, economics, weather forecasting, and signal processing.\n",
    "\n",
    "* A modular time series it must be <mark><i>Stationary</i></mark>.\n",
    "  + A stationary time series has the following properties:\n",
    "    - Constant mean over time\n",
    "    - Constant variance over time\n",
    "    - Constant autocorrelation over time ( How each value in the time series related to it's neighbour should stays the same.)\n",
    "\n",
    "* In this type we will train the model with the past data and test it with the future data. \n",
    "* Chronological Order \n",
    "* Sequential Order \n",
    "* Constant Frequency \n",
    "* Dynamic Nature "
   ]
  },
  {
   "cell_type": "markdown",
   "id": "c17ba062",
   "metadata": {},
   "source": [
    "# Time Series Components: Simplified Definitions\n",
    "\n",
    "## 1. Secular Trend\n",
    "- **Meaning**: The long-term underlying direction of the data (increasing, decreasing, or stable) over years/decades\n",
    "- **Example**:  \n",
    "  - Gradual rise in global temperatures due to climate change  \n",
    "  - Steady growth of a company's revenue over 10 years\n",
    "\n",
    "## 2. Seasonal Variable\n",
    "- **Meaning**: Predictable, repeating patterns that occur at fixed intervals (daily, monthly, yearly)\n",
    "- **Example**:  \n",
    "  - Higher electricity usage every summer  \n",
    "  - Christmas sales spikes every December\n",
    "\n",
    "## 3. Cyclic Variable\n",
    "- **Meaning**: Fluctuations without fixed periodicity, often tied to economic conditions (>1 year duration)\n",
    "- **Example**:  \n",
    "  - Housing market booms and busts  \n",
    "  - Business investment cycles\n",
    "\n",
    "## 4. Irregular Variation (Noise)\n",
    "- **Meaning**: Random, unpredictable fluctuations caused by unexpected events or measurement errors\n",
    "- **Example**:  \n",
    "  - Stock price drops due to sudden political crisis  \n",
    "  - Abnormal weather affecting retail sales\n",
    "\n",
    "### Key Differences\n",
    "| Component      | Duration       | Predictability | Example |\n",
    "|---------------|---------------|----------------|---------|\n",
    "| **Trend**     | Years/decades | High           | Population growth |\n",
    "| **Seasonal**  | Fixed periods | Very high      | Holiday sales |\n",
    "| **Cyclic**    | 1+ years      | Moderate       | Recessions |\n",
    "| **Irregular** | Instantaneous | None           | Natural disasters |"
   ]
  },
  {
   "cell_type": "markdown",
   "id": "5ca0b5b6",
   "metadata": {},
   "source": [
    "## Methods of Measuring Trends\n",
    "\n",
    "### <span style=\"color:cyan\">1. Free Hand Curve Method</span> \n",
    "\n",
    "#### Definition\n",
    "A non-mathematical approach to trend estimation where the analyst draws a smooth curve through the data points by visual inspection.\n",
    "\n",
    "#### Key Characteristics\n",
    "- **Nature**: Subjective (relies on analyst's judgment)\n",
    "- **Formula**: None (shape depends on data pattern interpretation)\n",
    "- **Speed**: Quick visualization method\n",
    "- **Best For**: Initial exploratory analysis\n",
    "\n",
    "#### When to Use\n",
    "1. Preliminary trend identification\n",
    "2. Irregular data patterns that don't fit mathematical models\n",
    "3. Visual presentations to highlight overall patterns\n",
    "\n",
    "#### Advantages\n",
    "- Requires no complex calculations\n",
    "- Immediate visual representation\n",
    "- Useful for small datasets\n",
    "\n",
    "#### Limitations\n",
    "- **Reproducibility**: Different analysts may draw different curves\n",
    "- **Forecasting**: Cannot generate quantitative forecasts\n",
    "- **Rigor**: Lacks statistical validation\n",
    "- **Consistency**: Results vary between applications\n",
    "\n",
    "#### Example Application"
   ]
  },
  {
   "cell_type": "code",
   "execution_count": 4,
   "id": "e0ca76e1",
   "metadata": {},
   "outputs": [
    {
     "data": {
      "text/html": [
       "\n",
       "<div style='width:100%; height:400px; overflow:auto; border:1px solid #ccc; margin:40px 0;'>\n",
       "<div>                        <script type=\"text/javascript\">window.PlotlyConfig = {MathJaxConfig: 'local'};</script>\n",
       "        <script charset=\"utf-8\" src=\"https://cdn.plot.ly/plotly-3.0.1.min.js\" integrity=\"sha256-oy6Be7Eh6eiQFs5M7oXuPxxm9qbJXEtTpfSI93dW16Q=\" crossorigin=\"anonymous\"></script>                <div id=\"afa2d8bf-5232-4914-aa3d-bfa3c544b009\" class=\"plotly-graph-div\" style=\"height:800px; width:1500px;\"></div>            <script type=\"text/javascript\">                window.PLOTLYENV=window.PLOTLYENV || {};                                if (document.getElementById(\"afa2d8bf-5232-4914-aa3d-bfa3c544b009\")) {                    Plotly.newPlot(                        \"afa2d8bf-5232-4914-aa3d-bfa3c544b009\",                        [{\"line\":{\"color\":\"orange\"},\"marker\":{\"color\":\"white\"},\"mode\":\"markers+lines\",\"name\":\"Data\",\"x\":{\"dtype\":\"f8\",\"bdata\":\"AAAAAAAAAAAAAAAAAADgPwAAAAAAAPA\\u002fAAAAAAAA+D8AAAAAAAAAQAAAAAAAAARAAAAAAAAACEAAAAAAAAAMQAAAAAAAABBAAAAAAAAAEkAAAAAAAAAUQAAAAAAAABZAAAAAAAAAGEAAAAAAAAAaQAAAAAAAABxAAAAAAAAAHkAAAAAAAAAgQAAAAAAAACFAAAAAAAAAIkAAAAAAAAAjQAAAAAAAACRAAAAAAAAAJUAAAAAAAAAmQAAAAAAAACdAAAAAAAAAKEAAAAAAAAApQAAAAAAAACpAAAAAAAAAK0AAAAAAAAAsQAAAAAAAAC1AAAAAAAAALkAAAAAAAAAvQAAAAAAAADBAAAAAAACAMEAAAAAAAAAxQAAAAAAAgDFAAAAAAAAAMkAAAAAAAIAyQAAAAAAAADNAAAAAAACAM0AAAAAAAAA0QAAAAAAAgDRAAAAAAAAANUAAAAAAAIA1QAAAAAAAADZAAAAAAACANkAAAAAAAAA3QAAAAAAAgDdA\"},\"y\":{\"dtype\":\"f8\",\"bdata\":\"\\u002fVmHIIhuuT850rTz1+ncPzaGQ9KAEu8\\u002fzlhj0GfV9D\\u002f266bfU5nrP1NZfeUSp+E\\u002fTpSo8N8+3T\\u002fifRorAUHJv+8UNbLpOOu\\u002fNASyEP\\u002fO67\\u002fGWuC2YtPwv4j7jIXWjum\\u002f0EYOwSmSzb\\u002f0vRxX0nHFvwHE55Db99M\\u002fT9VCC9hq6j9+SLR2Zi3pP\\u002f+AyLoRkOs\\u002fWsJC0XiBzT8YgJ\\u002fbHOPWv9ZgZ5+aDtC\\u002fusqbKmGY7b\\u002fGJWoUSJHvv7Bph30BkfK\\u002f4MrMoYWn5L9gAzCyLJmmv1BouMfhUMg\\u002f4e6uSSUg7D\\u002fo6zwS+NrrPwlHMM+\\u002fDOw\\u002f+lxGZlL14D9fHfd4J3biP2Q7UFM8mdK\\u002fnT0eLOaL7b9T5dVUHIDpvxJNCnxHhPO\\u002fePJTquKx5r\\u002fcLk4jU4Dnvy6zr4Zyor2\\u002fnD5bvB6j5D8De08lYPjwP7cy7FRmf\\u002fA\\u002ffmPso2cI6j+YWTBFrVTaPwgJvDjXfdO\\u002f67sjjFMy5L9LW4638gbuv\\u002fX+34VMLOm\\u002f\"},\"type\":\"scatter\"},{\"line\":{\"color\":\"cyan\",\"dash\":\"solid\",\"width\":4},\"mode\":\"lines\",\"name\":\"Freehand Trend\",\"x\":[0,24],\"y\":[0,0.5],\"type\":\"scatter\"}],                        {\"template\":{\"data\":{\"barpolar\":[{\"marker\":{\"line\":{\"color\":\"rgb(17,17,17)\",\"width\":0.5},\"pattern\":{\"fillmode\":\"overlay\",\"size\":10,\"solidity\":0.2}},\"type\":\"barpolar\"}],\"bar\":[{\"error_x\":{\"color\":\"#f2f5fa\"},\"error_y\":{\"color\":\"#f2f5fa\"},\"marker\":{\"line\":{\"color\":\"rgb(17,17,17)\",\"width\":0.5},\"pattern\":{\"fillmode\":\"overlay\",\"size\":10,\"solidity\":0.2}},\"type\":\"bar\"}],\"carpet\":[{\"aaxis\":{\"endlinecolor\":\"#A2B1C6\",\"gridcolor\":\"#506784\",\"linecolor\":\"#506784\",\"minorgridcolor\":\"#506784\",\"startlinecolor\":\"#A2B1C6\"},\"baxis\":{\"endlinecolor\":\"#A2B1C6\",\"gridcolor\":\"#506784\",\"linecolor\":\"#506784\",\"minorgridcolor\":\"#506784\",\"startlinecolor\":\"#A2B1C6\"},\"type\":\"carpet\"}],\"choropleth\":[{\"colorbar\":{\"outlinewidth\":0,\"ticks\":\"\"},\"type\":\"choropleth\"}],\"contourcarpet\":[{\"colorbar\":{\"outlinewidth\":0,\"ticks\":\"\"},\"type\":\"contourcarpet\"}],\"contour\":[{\"colorbar\":{\"outlinewidth\":0,\"ticks\":\"\"},\"colorscale\":[[0.0,\"#0d0887\"],[0.1111111111111111,\"#46039f\"],[0.2222222222222222,\"#7201a8\"],[0.3333333333333333,\"#9c179e\"],[0.4444444444444444,\"#bd3786\"],[0.5555555555555556,\"#d8576b\"],[0.6666666666666666,\"#ed7953\"],[0.7777777777777778,\"#fb9f3a\"],[0.8888888888888888,\"#fdca26\"],[1.0,\"#f0f921\"]],\"type\":\"contour\"}],\"heatmap\":[{\"colorbar\":{\"outlinewidth\":0,\"ticks\":\"\"},\"colorscale\":[[0.0,\"#0d0887\"],[0.1111111111111111,\"#46039f\"],[0.2222222222222222,\"#7201a8\"],[0.3333333333333333,\"#9c179e\"],[0.4444444444444444,\"#bd3786\"],[0.5555555555555556,\"#d8576b\"],[0.6666666666666666,\"#ed7953\"],[0.7777777777777778,\"#fb9f3a\"],[0.8888888888888888,\"#fdca26\"],[1.0,\"#f0f921\"]],\"type\":\"heatmap\"}],\"histogram2dcontour\":[{\"colorbar\":{\"outlinewidth\":0,\"ticks\":\"\"},\"colorscale\":[[0.0,\"#0d0887\"],[0.1111111111111111,\"#46039f\"],[0.2222222222222222,\"#7201a8\"],[0.3333333333333333,\"#9c179e\"],[0.4444444444444444,\"#bd3786\"],[0.5555555555555556,\"#d8576b\"],[0.6666666666666666,\"#ed7953\"],[0.7777777777777778,\"#fb9f3a\"],[0.8888888888888888,\"#fdca26\"],[1.0,\"#f0f921\"]],\"type\":\"histogram2dcontour\"}],\"histogram2d\":[{\"colorbar\":{\"outlinewidth\":0,\"ticks\":\"\"},\"colorscale\":[[0.0,\"#0d0887\"],[0.1111111111111111,\"#46039f\"],[0.2222222222222222,\"#7201a8\"],[0.3333333333333333,\"#9c179e\"],[0.4444444444444444,\"#bd3786\"],[0.5555555555555556,\"#d8576b\"],[0.6666666666666666,\"#ed7953\"],[0.7777777777777778,\"#fb9f3a\"],[0.8888888888888888,\"#fdca26\"],[1.0,\"#f0f921\"]],\"type\":\"histogram2d\"}],\"histogram\":[{\"marker\":{\"pattern\":{\"fillmode\":\"overlay\",\"size\":10,\"solidity\":0.2}},\"type\":\"histogram\"}],\"mesh3d\":[{\"colorbar\":{\"outlinewidth\":0,\"ticks\":\"\"},\"type\":\"mesh3d\"}],\"parcoords\":[{\"line\":{\"colorbar\":{\"outlinewidth\":0,\"ticks\":\"\"}},\"type\":\"parcoords\"}],\"pie\":[{\"automargin\":true,\"type\":\"pie\"}],\"scatter3d\":[{\"line\":{\"colorbar\":{\"outlinewidth\":0,\"ticks\":\"\"}},\"marker\":{\"colorbar\":{\"outlinewidth\":0,\"ticks\":\"\"}},\"type\":\"scatter3d\"}],\"scattercarpet\":[{\"marker\":{\"colorbar\":{\"outlinewidth\":0,\"ticks\":\"\"}},\"type\":\"scattercarpet\"}],\"scattergeo\":[{\"marker\":{\"colorbar\":{\"outlinewidth\":0,\"ticks\":\"\"}},\"type\":\"scattergeo\"}],\"scattergl\":[{\"marker\":{\"line\":{\"color\":\"#283442\"}},\"type\":\"scattergl\"}],\"scattermapbox\":[{\"marker\":{\"colorbar\":{\"outlinewidth\":0,\"ticks\":\"\"}},\"type\":\"scattermapbox\"}],\"scattermap\":[{\"marker\":{\"colorbar\":{\"outlinewidth\":0,\"ticks\":\"\"}},\"type\":\"scattermap\"}],\"scatterpolargl\":[{\"marker\":{\"colorbar\":{\"outlinewidth\":0,\"ticks\":\"\"}},\"type\":\"scatterpolargl\"}],\"scatterpolar\":[{\"marker\":{\"colorbar\":{\"outlinewidth\":0,\"ticks\":\"\"}},\"type\":\"scatterpolar\"}],\"scatter\":[{\"marker\":{\"line\":{\"color\":\"#283442\"}},\"type\":\"scatter\"}],\"scatterternary\":[{\"marker\":{\"colorbar\":{\"outlinewidth\":0,\"ticks\":\"\"}},\"type\":\"scatterternary\"}],\"surface\":[{\"colorbar\":{\"outlinewidth\":0,\"ticks\":\"\"},\"colorscale\":[[0.0,\"#0d0887\"],[0.1111111111111111,\"#46039f\"],[0.2222222222222222,\"#7201a8\"],[0.3333333333333333,\"#9c179e\"],[0.4444444444444444,\"#bd3786\"],[0.5555555555555556,\"#d8576b\"],[0.6666666666666666,\"#ed7953\"],[0.7777777777777778,\"#fb9f3a\"],[0.8888888888888888,\"#fdca26\"],[1.0,\"#f0f921\"]],\"type\":\"surface\"}],\"table\":[{\"cells\":{\"fill\":{\"color\":\"#506784\"},\"line\":{\"color\":\"rgb(17,17,17)\"}},\"header\":{\"fill\":{\"color\":\"#2a3f5f\"},\"line\":{\"color\":\"rgb(17,17,17)\"}},\"type\":\"table\"}]},\"layout\":{\"annotationdefaults\":{\"arrowcolor\":\"#f2f5fa\",\"arrowhead\":0,\"arrowwidth\":1},\"autotypenumbers\":\"strict\",\"coloraxis\":{\"colorbar\":{\"outlinewidth\":0,\"ticks\":\"\"}},\"colorscale\":{\"diverging\":[[0,\"#8e0152\"],[0.1,\"#c51b7d\"],[0.2,\"#de77ae\"],[0.3,\"#f1b6da\"],[0.4,\"#fde0ef\"],[0.5,\"#f7f7f7\"],[0.6,\"#e6f5d0\"],[0.7,\"#b8e186\"],[0.8,\"#7fbc41\"],[0.9,\"#4d9221\"],[1,\"#276419\"]],\"sequential\":[[0.0,\"#0d0887\"],[0.1111111111111111,\"#46039f\"],[0.2222222222222222,\"#7201a8\"],[0.3333333333333333,\"#9c179e\"],[0.4444444444444444,\"#bd3786\"],[0.5555555555555556,\"#d8576b\"],[0.6666666666666666,\"#ed7953\"],[0.7777777777777778,\"#fb9f3a\"],[0.8888888888888888,\"#fdca26\"],[1.0,\"#f0f921\"]],\"sequentialminus\":[[0.0,\"#0d0887\"],[0.1111111111111111,\"#46039f\"],[0.2222222222222222,\"#7201a8\"],[0.3333333333333333,\"#9c179e\"],[0.4444444444444444,\"#bd3786\"],[0.5555555555555556,\"#d8576b\"],[0.6666666666666666,\"#ed7953\"],[0.7777777777777778,\"#fb9f3a\"],[0.8888888888888888,\"#fdca26\"],[1.0,\"#f0f921\"]]},\"colorway\":[\"#636efa\",\"#EF553B\",\"#00cc96\",\"#ab63fa\",\"#FFA15A\",\"#19d3f3\",\"#FF6692\",\"#B6E880\",\"#FF97FF\",\"#FECB52\"],\"font\":{\"color\":\"#f2f5fa\"},\"geo\":{\"bgcolor\":\"rgb(17,17,17)\",\"lakecolor\":\"rgb(17,17,17)\",\"landcolor\":\"rgb(17,17,17)\",\"showlakes\":true,\"showland\":true,\"subunitcolor\":\"#506784\"},\"hoverlabel\":{\"align\":\"left\"},\"hovermode\":\"closest\",\"mapbox\":{\"style\":\"dark\"},\"paper_bgcolor\":\"rgb(17,17,17)\",\"plot_bgcolor\":\"rgb(17,17,17)\",\"polar\":{\"angularaxis\":{\"gridcolor\":\"#506784\",\"linecolor\":\"#506784\",\"ticks\":\"\"},\"bgcolor\":\"rgb(17,17,17)\",\"radialaxis\":{\"gridcolor\":\"#506784\",\"linecolor\":\"#506784\",\"ticks\":\"\"}},\"scene\":{\"xaxis\":{\"backgroundcolor\":\"rgb(17,17,17)\",\"gridcolor\":\"#506784\",\"gridwidth\":2,\"linecolor\":\"#506784\",\"showbackground\":true,\"ticks\":\"\",\"zerolinecolor\":\"#C8D4E3\"},\"yaxis\":{\"backgroundcolor\":\"rgb(17,17,17)\",\"gridcolor\":\"#506784\",\"gridwidth\":2,\"linecolor\":\"#506784\",\"showbackground\":true,\"ticks\":\"\",\"zerolinecolor\":\"#C8D4E3\"},\"zaxis\":{\"backgroundcolor\":\"rgb(17,17,17)\",\"gridcolor\":\"#506784\",\"gridwidth\":2,\"linecolor\":\"#506784\",\"showbackground\":true,\"ticks\":\"\",\"zerolinecolor\":\"#C8D4E3\"}},\"shapedefaults\":{\"line\":{\"color\":\"#f2f5fa\"}},\"sliderdefaults\":{\"bgcolor\":\"#C8D4E3\",\"bordercolor\":\"rgb(17,17,17)\",\"borderwidth\":1,\"tickwidth\":0},\"ternary\":{\"aaxis\":{\"gridcolor\":\"#506784\",\"linecolor\":\"#506784\",\"ticks\":\"\"},\"baxis\":{\"gridcolor\":\"#506784\",\"linecolor\":\"#506784\",\"ticks\":\"\"},\"bgcolor\":\"rgb(17,17,17)\",\"caxis\":{\"gridcolor\":\"#506784\",\"linecolor\":\"#506784\",\"ticks\":\"\"}},\"title\":{\"x\":0.05},\"updatemenudefaults\":{\"bgcolor\":\"#506784\",\"borderwidth\":0},\"xaxis\":{\"automargin\":true,\"gridcolor\":\"#283442\",\"linecolor\":\"#506784\",\"ticks\":\"\",\"title\":{\"standoff\":15},\"zerolinecolor\":\"#283442\",\"zerolinewidth\":2},\"yaxis\":{\"automargin\":true,\"gridcolor\":\"#283442\",\"linecolor\":\"#506784\",\"ticks\":\"\",\"title\":{\"standoff\":15},\"zerolinecolor\":\"#283442\",\"zerolinewidth\":2}}},\"xaxis\":{\"title\":{\"text\":\"Time\"},\"zeroline\":true,\"zerolinewidth\":1.5,\"zerolinecolor\":\"gray\"},\"yaxis\":{\"title\":{\"text\":\"Value\"},\"zeroline\":true,\"zerolinewidth\":1.5,\"zerolinecolor\":\"gray\"},\"title\":{\"text\":\"Free Hand Curve Method\"},\"showlegend\":true,\"width\":1500,\"height\":800},                        {\"responsive\": true}                    )                };            </script>        </div>\n",
       "</div>\n"
      ],
      "text/plain": [
       "<IPython.core.display.HTML object>"
      ]
     },
     "metadata": {},
     "output_type": "display_data"
    }
   ],
   "source": [
    "import numpy as np\n",
    "import plotly.graph_objects as go\n",
    "from IPython.display import HTML, display\n",
    "\n",
    "# Generate synthetic data\n",
    "np.random.seed(42)\n",
    "time = np.arange(0, 24, 0.5)\n",
    "y_values = np.sin(time) + np.random.normal(0, 0.2, len(time))\n",
    "\n",
    "# Create figure\n",
    "fig = go.Figure()\n",
    "\n",
    "# Add original data\n",
    "fig.add_trace(go.Scatter(\n",
    "    x=time, \n",
    "    y=y_values, \n",
    "    name='Data', \n",
    "    mode='markers+lines', \n",
    "    marker_color='white', \n",
    "    line_color='orange'\n",
    "))\n",
    "\n",
    "# Add freehand trend line (manually approximated)\n",
    "freehand_x = [0, 24]  # Start and end points\n",
    "freehand_y = [0, 0.5]  # Manually estimated start/end values\n",
    "\n",
    "fig.add_trace(go.Scatter(\n",
    "    x=freehand_x,\n",
    "    y=freehand_y,\n",
    "    name='Freehand Trend',\n",
    "    mode='lines',\n",
    "    line=dict(color='cyan', width=4, dash='solid')\n",
    "))\n",
    "\n",
    "# Update layout\n",
    "fig.update_layout(\n",
    "    title='Free Hand Curve Method',\n",
    "    xaxis=dict(\n",
    "        title='Time', \n",
    "        zeroline=True, \n",
    "        zerolinewidth=1.5, \n",
    "        zerolinecolor='gray'\n",
    "    ),\n",
    "    yaxis=dict(\n",
    "        title='Value', \n",
    "        zeroline=True, \n",
    "        zerolinewidth=1.5, \n",
    "        zerolinecolor='gray'\n",
    "    ),\n",
    "    showlegend=True,\n",
    "    template='plotly_dark',\n",
    "    width=1500,\n",
    "    height=800  # Increased height for better scrolling\n",
    ")\n",
    "\n",
    "# Convert to scrollable HTML\n",
    "html = f\"\"\"\n",
    "<div style='width:100%; height:400px; overflow:auto; border:1px solid #ccc; margin:40px 0;'>\n",
    "{fig.to_html(full_html=False, include_plotlyjs='cdn')}\n",
    "</div>\n",
    "\"\"\"\n",
    "display(HTML(html))"
   ]
  },
  {
   "cell_type": "code",
   "execution_count": 26,
   "id": "35d108d7",
   "metadata": {},
   "outputs": [
    {
     "name": "stderr",
     "output_type": "stream",
     "text": [
      "[*********************100%***********************]  1 of 1 completed\n"
     ]
    },
    {
     "data": {
      "image/png": "[encoded data removed]",
      "text/plain": [
       "<Figure size 1500x700 with 1 Axes>"
      ]
     },
     "metadata": {},
     "output_type": "display_data"
    }
   ],
   "source": [
    "import yfinance as yf \n",
    "import pandas as pd \n",
    "import numpy as np \n",
    "import matplotlib.pyplot as plt\n",
    "import plotly.graph_objects as go\n",
    "import warnings\n",
    "warnings.filterwarnings('ignore')\n",
    "\n",
    "stock_data = yf.download(\"AAPL\", start=\"2022-01-01\", end=\"2022-12-31\")\n",
    "\n",
    "plt.figure(figsize=(15, 7))\n",
    "plt.plot(stock_data.index, stock_data['Close'], label='Close Price', color = 'orange')\n",
    "plt.title('APPL Stock Price Over Time')\n",
    "plt.xlabel('Date')\n",
    "plt.ylabel('Close Price')\n",
    "plt.legend()\n",
    "plt.grid(True)\n",
    "plt.show()"
   ]
  },
  {
   "cell_type": "markdown",
   "id": "989abd3a",
   "metadata": {},
   "source": [
    "### <span style=\"color:cyan\">2. Semi-Average Method</span>\n",
    "\n",
    "#### Definition\n",
    "The **semi-average method** is a simple statistical technique for trend estimation that divides time series data into two equal parts and calculates their respective averages to establish a linear trend line.\n",
    "\n",
    "#### Key Characteristics\n",
    "| Feature          | Description                                                                 |\n",
    "|------------------|-----------------------------------------------------------------------------|\n",
    "| **Calculation**  | Divides data into two equal halves and computes their means                |\n",
    "| **Complexity**   | Simple arithmetic (no advanced math required)                              |\n",
    "| **Output**       | Straight-line trend connecting the two semi-averages                       |\n",
    "| **Best For**     | Rough trend approximation in small datasets                                |\n",
    "\n",
    "#### When to Use\n",
    "✔️ **Appropriate for**:\n",
    "- Quick preliminary trend analysis\n",
    "- Small datasets (<50 observations)\n",
    "- When only a rough linear trend is needed\n",
    "- Situations requiring minimal computation\n",
    "\n",
    "❌ **Avoid when**:\n",
    "- Data has strong seasonality/cyclical patterns\n",
    "- Non-linear trends are present\n",
    "- High precision is required\n",
    "\n",
    "#### Step-by-Step Implementation\n",
    "```python\n",
    "import numpy as np\n",
    "\n",
    "# Sample data (time periods vs values)\n",
    "years = np.arange(2010, 2020)\n",
    "values = [12, 15, 14, 18, 20, 22, 25, 24, 27, 30]\n"
   ]
  },
  {
   "cell_type": "code",
   "execution_count": null,
   "id": "19aece9e",
   "metadata": {},
   "outputs": [
    {
     "data": {
      "application/vnd.plotly.v1+json": {
       "config": {
        "plotlyServerURL": "https://plot.ly"
       },
       "data": [
        {
         "line": {
          "color": "orange",
          "width": 2
         },
         "marker": {
          "color": "white",
          "size": 8
         },
         "mode": "markers+lines",
         "name": "Data",
         "type": "scatter",
         "x": {
          "bdata": "0AfRB9IH0wfUB9UH1gfXB9gH2QfaB9sH3AfdB94H3wfgB+EH4gfjB+QH5QfmBw==",
          "dtype": "i2"
         },
         "y": {
          "bdata": "owEAADYCAACHAQAAXQMAAGwDAAD2AQAAgQIAAFkDAABNAgAAKwMAAD4BAABcAwAAlQAAAIwDAAAhAwAA/QIAAGwDAACMAgAAfwAAAOkCAACkAgAAQAMAAGMBAAA=",
          "dtype": "i4"
         }
        },
        {
         "line": {
          "color": "cyan",
          "dash": "dash",
          "width": 4
         },
         "marker": {
          "color": "red",
          "size": 12
         },
         "mode": "lines+markers",
         "name": "Semi-Average Line",
         "type": "scatter",
         "x": [
          2005,
          2017
         ],
         "y": [
          640.9166666666666,
          626
         ]
        }
       ],
       "layout": {
        "height": 800,
        "hovermode": "x unified",
        "showlegend": true,
        "template": {
         "data": {
          "bar": [
           {
            "error_x": {
             "color": "#f2f5fa"
            },
            "error_y": {
             "color": "#f2f5fa"
            },
            "marker": {
             "line": {
              "color": "rgb(17,17,17)",
              "width": 0.5
             },
             "pattern": {
              "fillmode": "overlay",
              "size": 10,
              "solidity": 0.2
             }
            },
            "type": "bar"
           }
          ],
          "barpolar": [
           {
            "marker": {
             "line": {
              "color": "rgb(17,17,17)",
              "width": 0.5
             },
             "pattern": {
              "fillmode": "overlay",
              "size": 10,
              "solidity": 0.2
             }
            },
            "type": "barpolar"
           }
          ],
          "carpet": [
           {
            "aaxis": {
             "endlinecolor": "#A2B1C6",
             "gridcolor": "#506784",
             "linecolor": "#506784",
             "minorgridcolor": "#506784",
             "startlinecolor": "#A2B1C6"
            },
            "baxis": {
             "endlinecolor": "#A2B1C6",
             "gridcolor": "#506784",
             "linecolor": "#506784",
             "minorgridcolor": "#506784",
             "startlinecolor": "#A2B1C6"
            },
            "type": "carpet"
           }
          ],
          "choropleth": [
           {
            "colorbar": {
             "outlinewidth": 0,
             "ticks": ""
            },
            "type": "choropleth"
           }
          ],
          "contour": [
           {
            "colorbar": {
             "outlinewidth": 0,
             "ticks": ""
            },
            "colorscale": [
             [
              0,
              "#0d0887"
             ],
             [
              0.1111111111111111,
              "#46039f"
             ],
             [
              0.2222222222222222,
              "#7201a8"
             ],
             [
              0.3333333333333333,
              "#9c179e"
             ],
             [
              0.4444444444444444,
              "#bd3786"
             ],
             [
              0.5555555555555556,
              "#d8576b"
             ],
             [
              0.6666666666666666,
              "#ed7953"
             ],
             [
              0.7777777777777778,
              "#fb9f3a"
             ],
             [
              0.8888888888888888,
              "#fdca26"
             ],
             [
              1,
              "#f0f921"
             ]
            ],
            "type": "contour"
           }
          ],
          "contourcarpet": [
           {
            "colorbar": {
             "outlinewidth": 0,
             "ticks": ""
            },
            "type": "contourcarpet"
           }
          ],
          "heatmap": [
           {
            "colorbar": {
             "outlinewidth": 0,
             "ticks": ""
            },
            "colorscale": [
             [
              0,
              "#0d0887"
             ],
             [
              0.1111111111111111,
              "#46039f"
             ],
             [
              0.2222222222222222,
              "#7201a8"
             ],
             [
              0.3333333333333333,
              "#9c179e"
             ],
             [
              0.4444444444444444,
              "#bd3786"
             ],
             [
              0.5555555555555556,
              "#d8576b"
             ],
             [
              0.6666666666666666,
              "#ed7953"
             ],
             [
              0.7777777777777778,
              "#fb9f3a"
             ],
             [
              0.8888888888888888,
              "#fdca26"
             ],
             [
              1,
              "#f0f921"
             ]
            ],
            "type": "heatmap"
           }
          ],
          "histogram": [
           {
            "marker": {
             "pattern": {
              "fillmode": "overlay",
              "size": 10,
              "solidity": 0.2
             }
            },
            "type": "histogram"
           }
          ],
          "histogram2d": [
           {
            "colorbar": {
             "outlinewidth": 0,
             "ticks": ""
            },
            "colorscale": [
             [
              0,
              "#0d0887"
             ],
             [
              0.1111111111111111,
              "#46039f"
             ],
             [
              0.2222222222222222,
              "#7201a8"
             ],
             [
              0.3333333333333333,
              "#9c179e"
             ],
             [
              0.4444444444444444,
              "#bd3786"
             ],
             [
              0.5555555555555556,
              "#d8576b"
             ],
             [
              0.6666666666666666,
              "#ed7953"
             ],
             [
              0.7777777777777778,
              "#fb9f3a"
             ],
             [
              0.8888888888888888,
              "#fdca26"
             ],
             [
              1,
              "#f0f921"
             ]
            ],
            "type": "histogram2d"
           }
          ],
          "histogram2dcontour": [
           {
            "colorbar": {
             "outlinewidth": 0,
             "ticks": ""
            },
            "colorscale": [
             [
              0,
              "#0d0887"
             ],
             [
              0.1111111111111111,
              "#46039f"
             ],
             [
              0.2222222222222222,
              "#7201a8"
             ],
             [
              0.3333333333333333,
              "#9c179e"
             ],
             [
              0.4444444444444444,
              "#bd3786"
             ],
             [
              0.5555555555555556,
              "#d8576b"
             ],
             [
              0.6666666666666666,
              "#ed7953"
             ],
             [
              0.7777777777777778,
              "#fb9f3a"
             ],
             [
              0.8888888888888888,
              "#fdca26"
             ],
             [
              1,
              "#f0f921"
             ]
            ],
            "type": "histogram2dcontour"
           }
          ],
          "mesh3d": [
           {
            "colorbar": {
             "outlinewidth": 0,
             "ticks": ""
            },
            "type": "mesh3d"
           }
          ],
          "parcoords": [
           {
            "line": {
             "colorbar": {
              "outlinewidth": 0,
              "ticks": ""
             }
            },
            "type": "parcoords"
           }
          ],
          "pie": [
           {
            "automargin": true,
            "type": "pie"
           }
          ],
          "scatter": [
           {
            "marker": {
             "line": {
              "color": "#283442"
             }
            },
            "type": "scatter"
           }
          ],
          "scatter3d": [
           {
            "line": {
             "colorbar": {
              "outlinewidth": 0,
              "ticks": ""
             }
            },
            "marker": {
             "colorbar": {
              "outlinewidth": 0,
              "ticks": ""
             }
            },
            "type": "scatter3d"
           }
          ],
          "scattercarpet": [
           {
            "marker": {
             "colorbar": {
              "outlinewidth": 0,
              "ticks": ""
             }
            },
            "type": "scattercarpet"
           }
          ],
          "scattergeo": [
           {
            "marker": {
             "colorbar": {
              "outlinewidth": 0,
              "ticks": ""
             }
            },
            "type": "scattergeo"
           }
          ],
          "scattergl": [
           {
            "marker": {
             "line": {
              "color": "#283442"
             }
            },
            "type": "scattergl"
           }
          ],
          "scattermap": [
           {
            "marker": {
             "colorbar": {
              "outlinewidth": 0,
              "ticks": ""
             }
            },
            "type": "scattermap"
           }
          ],
          "scattermapbox": [
           {
            "marker": {
             "colorbar": {
              "outlinewidth": 0,
              "ticks": ""
             }
            },
            "type": "scattermapbox"
           }
          ],
          "scatterpolar": [
           {
            "marker": {
             "colorbar": {
              "outlinewidth": 0,
              "ticks": ""
             }
            },
            "type": "scatterpolar"
           }
          ],
          "scatterpolargl": [
           {
            "marker": {
             "colorbar": {
              "outlinewidth": 0,
              "ticks": ""
             }
            },
            "type": "scatterpolargl"
           }
          ],
          "scatterternary": [
           {
            "marker": {
             "colorbar": {
              "outlinewidth": 0,
              "ticks": ""
             }
            },
            "type": "scatterternary"
           }
          ],
          "surface": [
           {
            "colorbar": {
             "outlinewidth": 0,
             "ticks": ""
            },
            "colorscale": [
             [
              0,
              "#0d0887"
             ],
             [
              0.1111111111111111,
              "#46039f"
             ],
             [
              0.2222222222222222,
              "#7201a8"
             ],
             [
              0.3333333333333333,
              "#9c179e"
             ],
             [
              0.4444444444444444,
              "#bd3786"
             ],
             [
              0.5555555555555556,
              "#d8576b"
             ],
             [
              0.6666666666666666,
              "#ed7953"
             ],
             [
              0.7777777777777778,
              "#fb9f3a"
             ],
             [
              0.8888888888888888,
              "#fdca26"
             ],
             [
              1,
              "#f0f921"
             ]
            ],
            "type": "surface"
           }
          ],
          "table": [
           {
            "cells": {
             "fill": {
              "color": "#506784"
             },
             "line": {
              "color": "rgb(17,17,17)"
             }
            },
            "header": {
             "fill": {
              "color": "#2a3f5f"
             },
             "line": {
              "color": "rgb(17,17,17)"
             }
            },
            "type": "table"
           }
          ]
         },
         "layout": {
          "annotationdefaults": {
           "arrowcolor": "#f2f5fa",
           "arrowhead": 0,
           "arrowwidth": 1
          },
          "autotypenumbers": "strict",
          "coloraxis": {
           "colorbar": {
            "outlinewidth": 0,
            "ticks": ""
           }
          },
          "colorscale": {
           "diverging": [
            [
             0,
             "#8e0152"
            ],
            [
             0.1,
             "#c51b7d"
            ],
            [
             0.2,
             "#de77ae"
            ],
            [
             0.3,
             "#f1b6da"
            ],
            [
             0.4,
             "#fde0ef"
            ],
            [
             0.5,
             "#f7f7f7"
            ],
            [
             0.6,
             "#e6f5d0"
            ],
            [
             0.7,
             "#b8e186"
            ],
            [
             0.8,
             "#7fbc41"
            ],
            [
             0.9,
             "#4d9221"
            ],
            [
             1,
             "#276419"
            ]
           ],
           "sequential": [
            [
             0,
             "#0d0887"
            ],
            [
             0.1111111111111111,
             "#46039f"
            ],
            [
             0.2222222222222222,
             "#7201a8"
            ],
            [
             0.3333333333333333,
             "#9c179e"
            ],
            [
             0.4444444444444444,
             "#bd3786"
            ],
            [
             0.5555555555555556,
             "#d8576b"
            ],
            [
             0.6666666666666666,
             "#ed7953"
            ],
            [
             0.7777777777777778,
             "#fb9f3a"
            ],
            [
             0.8888888888888888,
             "#fdca26"
            ],
            [
             1,
             "#f0f921"
            ]
           ],
           "sequentialminus": [
            [
             0,
             "#0d0887"
            ],
            [
             0.1111111111111111,
             "#46039f"
            ],
            [
             0.2222222222222222,
             "#7201a8"
            ],
            [
             0.3333333333333333,
             "#9c179e"
            ],
            [
             0.4444444444444444,
             "#bd3786"
            ],
            [
             0.5555555555555556,
             "#d8576b"
            ],
            [
             0.6666666666666666,
             "#ed7953"
            ],
            [
             0.7777777777777778,
             "#fb9f3a"
            ],
            [
             0.8888888888888888,
             "#fdca26"
            ],
            [
             1,
             "#f0f921"
            ]
           ]
          },
          "colorway": [
           "#636efa",
           "#EF553B",
           "#00cc96",
           "#ab63fa",
           "#FFA15A",
           "#19d3f3",
           "#FF6692",
           "#B6E880",
           "#FF97FF",
           "#FECB52"
          ],
          "font": {
           "color": "#f2f5fa"
          },
          "geo": {
           "bgcolor": "rgb(17,17,17)",
           "lakecolor": "rgb(17,17,17)",
           "landcolor": "rgb(17,17,17)",
           "showlakes": true,
           "showland": true,
           "subunitcolor": "#506784"
          },
          "hoverlabel": {
           "align": "left"
          },
          "hovermode": "closest",
          "mapbox": {
           "style": "dark"
          },
          "paper_bgcolor": "rgb(17,17,17)",
          "plot_bgcolor": "rgb(17,17,17)",
          "polar": {
           "angularaxis": {
            "gridcolor": "#506784",
            "linecolor": "#506784",
            "ticks": ""
           },
           "bgcolor": "rgb(17,17,17)",
           "radialaxis": {
            "gridcolor": "#506784",
            "linecolor": "#506784",
            "ticks": ""
           }
          },
          "scene": {
           "xaxis": {
            "backgroundcolor": "rgb(17,17,17)",
            "gridcolor": "#506784",
            "gridwidth": 2,
            "linecolor": "#506784",
            "showbackground": true,
            "ticks": "",
            "zerolinecolor": "#C8D4E3"
           },
           "yaxis": {
            "backgroundcolor": "rgb(17,17,17)",
            "gridcolor": "#506784",
            "gridwidth": 2,
            "linecolor": "#506784",
            "showbackground": true,
            "ticks": "",
            "zerolinecolor": "#C8D4E3"
           },
           "zaxis": {
            "backgroundcolor": "rgb(17,17,17)",
            "gridcolor": "#506784",
            "gridwidth": 2,
            "linecolor": "#506784",
            "showbackground": true,
            "ticks": "",
            "zerolinecolor": "#C8D4E3"
           }
          },
          "shapedefaults": {
           "line": {
            "color": "#f2f5fa"
           }
          },
          "sliderdefaults": {
           "bgcolor": "#C8D4E3",
           "bordercolor": "rgb(17,17,17)",
           "borderwidth": 1,
           "tickwidth": 0
          },
          "ternary": {
           "aaxis": {
            "gridcolor": "#506784",
            "linecolor": "#506784",
            "ticks": ""
           },
           "baxis": {
            "gridcolor": "#506784",
            "linecolor": "#506784",
            "ticks": ""
           },
           "bgcolor": "rgb(17,17,17)",
           "caxis": {
            "gridcolor": "#506784",
            "linecolor": "#506784",
            "ticks": ""
           }
          },
          "title": {
           "x": 0.05
          },
          "updatemenudefaults": {
           "bgcolor": "#506784",
           "borderwidth": 0
          },
          "xaxis": {
           "automargin": true,
           "gridcolor": "#283442",
           "linecolor": "#506784",
           "ticks": "",
           "title": {
            "standoff": 15
           },
           "zerolinecolor": "#283442",
           "zerolinewidth": 2
          },
          "yaxis": {
           "automargin": true,
           "gridcolor": "#283442",
           "linecolor": "#506784",
           "ticks": "",
           "title": {
            "standoff": 15
           },
           "zerolinecolor": "#283442",
           "zerolinewidth": 2
          }
         }
        },
        "title": {
         "text": "Semi-Average Method Demonstration"
        },
        "width": 1500,
        "xaxis": {
         "title": {
          "text": "Year"
         }
        },
        "yaxis": {
         "title": {
          "text": "Value"
         }
        }
       }
      }
     },
     "metadata": {},
     "output_type": "display_data"
    }
   ],
   "source": [
    "import numpy as np \n",
    "import plotly.graph_objects as go\n",
    "\n",
    "# Generate data\n",
    "years = np.arange(2000, 2023)\n",
    "values = np.random.randint(100, 1000, len(years))\n",
    "\n",
    "# If the length of the data is odd then remove the middle row for calculating semi-average line\n",
    "if len(years) % 2 != 0:\n",
    "    middle_index = len(years) // 2\n",
    "    trimmed_arr = np.delete(years, middle_index)\n",
    "    \n",
    "elif len(years) % 2 == 0:\n",
    "    trimmed_arr = years\n",
    "\n",
    "# Split data\n",
    "first_semi_year, second_semi_year = np.array_split(trimmed_arr, 2)\n",
    "first_half_values, second_half_values = np.array_split(values, 2)\n",
    "\n",
    "# Calculate averages\n",
    "avg_years = [np.mean(first_semi_year), np.mean(second_semi_year)]\n",
    "avg_values = [np.mean(first_half_values), np.mean(second_half_values)]\n",
    "    \n",
    "\n",
    "# Create figure\n",
    "fig = go.Figure()\n",
    "\n",
    "# Add original data trace\n",
    "fig.add_trace(go.Scatter(\n",
    "    x=years, \n",
    "    y=values, \n",
    "    name='Data', \n",
    "    mode='markers+lines',\n",
    "    marker=dict(color='white', size=8),\n",
    "    line=dict(color='orange', width=2)\n",
    "))\n",
    "\n",
    "# Add semi-average line trace\n",
    "fig.add_trace(go.Scatter(\n",
    "    x=avg_years,\n",
    "    y=avg_values,\n",
    "    mode='lines+markers',\n",
    "    name='Semi-Average Line',\n",
    "    marker=dict(color='red', size=12),\n",
    "    line=dict(color='cyan', width=4, dash='dash')\n",
    "))\n",
    "\n",
    "# Update layout\n",
    "fig.update_layout(\n",
    "    title='Semi-Average Method Demonstration',\n",
    "    xaxis_title='Year',\n",
    "    yaxis_title='Value',\n",
    "    showlegend=True,\n",
    "    template='plotly_dark',\n",
    "    width=1500,\n",
    "    height=800,\n",
    "    hovermode='x unified'\n",
    ")\n",
    "\n",
    "fig.show()"
   ]
  },
  {
   "cell_type": "markdown",
   "id": "a05ac82f",
   "metadata": {},
   "source": [
    "### <span style=\"color:cyan\">3. Moving Average Method: Explained</span>\n",
    "\n",
    "\n",
    "#### Definition\n",
    "A **moving average** smooths time series data by creating a series of averages from overlapping/adjacent subsets of the full dataset. It helps reveal trends by reducing noise.\n",
    "\n",
    "#### Key Characteristics\n",
    "| Feature          | Description                                                                 |\n",
    "|------------------|-----------------------------------------------------------------------------|\n",
    "| **Calculation**  | Average of sliding window of `n` periods                                   |\n",
    "| **Complexity**   | Simple arithmetic                                                          |\n",
    "| **Output**       | Smoothed curve lagging behind actual data                                  |\n",
    "| **Best For**     | Noise reduction, short-term trend identification                          |\n",
    "\n",
    "#### When to Use\n",
    "✔️ **Appropriate for**:\n",
    "- Reducing random fluctuations in data\n",
    "- Identifying underlying trends\n",
    "- Preparing data for further analysis\n",
    "- Smoothing volatile metrics (e.g., stock prices)\n",
    "\n",
    "❌ **Avoid when**:\n",
    "- Analyzing seasonality (use centered averages instead)\n",
    "- Immediate reaction to changes is critical\n",
    "- Data has structural breaks\n",
    "\n",
    "---\n",
    "\n",
    "#### Types of Moving Averages\n",
    "1. **Simple Moving Average (SMA)**  \n",
    "   ```python\n",
    "   SMA_t = (y_t + y_{t-1} + ... + y_{t-n+1}) / n\n",
    "\n"
   ]
  },
  {
   "cell_type": "code",
   "execution_count": 27,
   "id": "56e145ce",
   "metadata": {},
   "outputs": [],
   "source": [
    "# For odd gap moving average\n",
    "\n",
    "# Generate data\n",
    "years = np.arange(2000, 2023)\n",
    "gap = 3    # Set the gap value\n",
    "values = np.random.randint(100, 1000, len(years))\n",
    "\n",
    "cyc_fluc = []\n",
    "for i in range(1, len(years)):\n",
    "    cyc_fluc.append(values[i] - values[i-1])\n",
    "    \n",
    "try:\n",
    "    div_res = len(years) % gap  # No need for int() since % returns int\n",
    "    if gap <= 0 or gap > len(years) or gap % 2 == 0:\n",
    "        raise ValueError(\"Invalid Gap!\")\n",
    "except ZeroDivisionError:\n",
    "    print(\"Error: Gap cannot be zero\")\n",
    "except TypeError:\n",
    "    print(\"Error: Gap must be a number\")\n",
    "except ValueError as e:\n",
    "    print(f\"Error: {e}\")\n",
    "except Exception as e:\n",
    "    print(f\"Unexpected error: {e}\")\n",
    "\n",
    "add_list = []\n",
    "for i in range(len(cyc_fluc) - gap):\n",
    "    res_sum = 0\n",
    "    for j in range(gap):\n",
    "        res_sum += cyc_fluc[i+j]\n",
    "    add_list.append(res_sum / gap)\n",
    "    \n",
    "# Even gap moving average\n",
    "\n",
    "     "
   ]
  },
  {
   "cell_type": "markdown",
   "id": "069fbc3e",
   "metadata": {},
   "source": [
    "## Additive vs. Multiplicative Time Series Models\n",
    "\n",
    "### Additive Relationship\n",
    "- **Formula**:  \n",
    "  `Y(t) = Trend(t) + Seasonality(t) + Residuals(t)`  \n",
    "- **When to Use**:  \n",
    "  - When seasonal fluctuations are **constant** over time  \n",
    "  - Trend magnitude is independent of seasonality  \n",
    "- **Example**:  \n",
    "  `Monthly temperature variations (same ±5°C swing every year)`  \n",
    "\n",
    "### Multiplicative Relationship\n",
    "- **Formula**:  \n",
    "  `Y(t) = Trend(t) * Seasonality(t) * Residuals(t)`  \n",
    "- **When to Use**:  \n",
    "  - When seasonal fluctuations **grow/shrink with trend**  \n",
    "  - Common in economic data (e.g., sales, stock prices)  \n",
    "- **Example**:  \n",
    "  `Retail sales (10% holiday spikes proportional to baseline sales growth)`  \n",
    "\n",
    "#### Key Differences\n",
    "| Feature          | Additive                     | Multiplicative               |\n",
    "|------------------|-----------------------------|------------------------------|\n",
    "| **Seasonality**  | Constant amplitude          | Proportional to trend        |\n",
    "| **Residuals**    | Additive noise              | Multiplicative noise         |\n",
    "| **Transformation**| None                       | Log-transform stabilizes variance |\n",
    "\n",
    "#### Code Example (Decomposition)\n",
    "```python\n",
    "from statsmodels.tsa.seasonal import seasonal_decompose\n",
    "\n",
    "# Additive Decomposition\n",
    "additive = seasonal_decompose(series, model='additive')\n",
    "\n",
    "# Multiplicative Decomposition\n",
    "multiplicative = seasonal_decompose(series, model='multiplicative')"
   ]
  },
  {
   "cell_type": "code",
   "execution_count": 27,
   "id": "1316a27f",
   "metadata": {},
   "outputs": [
    {
     "data": {
      "image/png": "[encoded data removed]",
      "text/plain": [
       "<Figure size 1500x700 with 1 Axes>"
      ]
     },
     "metadata": {},
     "output_type": "display_data"
    }
   ],
   "source": [
    "from statsmodels.tsa.seasonal import seasonal_decompose\n",
    "\n",
    "\n",
    "decomposition_addititve = seasonal_decompose(stock_data['Close'], model='additive', period=30)\n",
    "\n",
    "trend_additive = decomposition_addititve.trend\n",
    "seasonal_additive = decomposition_addititve.seasonal\n",
    "residual_additive = decomposition_addititve.resid\n",
    "\n",
    "plt.figure(figsize=(15, 7))\n",
    "plt.plot(stock_data.index, stock_data['Close'], label='Close Price', color = 'orange')\n",
    "plt.plot(stock_data.index, trend_additive, label='Trend', color = 'green')\n",
    "plt.plot(stock_data.index, seasonal_additive, label='Seasonality', color = 'red')\n",
    "plt.plot(stock_data.index, residual_additive, label='Residual', color = 'blue')\n",
    "plt.title('APPL Stock Price Over Time')\n",
    "plt.xlabel('Date')\n",
    "plt.ylabel('Close Price')\n",
    "plt.legend()\n",
    "plt.grid(True)\n",
    "plt.show()"
   ]
  },
  {
   "cell_type": "markdown",
   "id": "3576dd00",
   "metadata": {},
   "source": [
    "**Checking Stationarity**\n",
    "=========================\n",
    "\n",
    "#### 1. Visual Inspection \n",
    "\n",
    "* **Trends**: If the mean temperature rises/falls over time → **Non-stationary**.\n",
    "* **Seasonality**: Repeated patterns (e.g., daily/yearly cycles) → **Non-stationary**.\n",
    "\n",
    "#### Your Plot Shows:\n",
    "\n",
    "* **Variability**: Fluctuations suggest changing mean/variance.\n",
    "* **Possible Seasonality**: Peaks/valleys at regular intervals (e.g., weekly/monthly)."
   ]
  },
  {
   "cell_type": "markdown",
   "id": "068e1c91",
   "metadata": {},
   "source": [
    "## Augmented Dickey-Fuller (ADF) Test\n",
    "\n",
    "## **Purpose**\n",
    "The ADF test is a statistical hypothesis test used to determine whether a given **time series is stationary** (i.e., has no unit root). It is a key tool in econometrics and time series forecasting.\n",
    "\n",
    "---\n",
    "\n",
    "### **Null and Alternative Hypotheses**\n",
    "- **Null Hypothesis (H₀):**  \n",
    "  The time series has a unit root (i.e., it is **non-stationary**).\n",
    "- **Alternative Hypothesis (H₁):**  \n",
    "  The time series does not have a unit root (i.e., it is **stationary**).\n",
    "\n",
    "---\n",
    "\n",
    "### **Test Statistic and Critical Values**\n",
    "- The ADF test computes a **test statistic** (e.g., `-2.73`). \n",
    "- More negative means more likely to be stationary.  \n",
    "- Compare this value to **critical values** (e.g., `1%: -3.43`, `5%: -2.86`, `10%: -2.57`).  \n",
    "- **Decision Rule:**  \n",
    "  - If the test statistic < critical value → **Reject H₀** (series is stationary).  \n",
    "  - If the test statistic > critical value → **Fail to reject H₀** (series is non-stationary).\n",
    "\n",
    "---\n",
    "\n",
    "### **Interpretation of p-value**\n",
    "- **p-value < 0.05:** Strong evidence against H₀ (stationary).  \n",
    "- **p-value ≥ 0.05:** Weak evidence against H₀ (non-stationary).\n",
    "\n",
    "---\n",
    "\n",
    "### **Python Implementation (using `statsmodels`)**\n",
    "```python\n",
    "from statsmodels.tsa.stattools import adfuller\n",
    "\n",
    "# Example usage:\n",
    "result = adfuller(time_series_data, autolag='AIC')\n",
    "print(f\"ADF Statistic: {result[0]}\")\n",
    "print(f\"p-value: {result[1]}\")\n",
    "print(\"Critical Values:\")\n",
    "for key, value in result[4].items():\n",
    "    print(f\"\\t{key}: {value}\")"
   ]
  }
 ],
 "metadata": {
  "kernelspec": {
   "display_name": "Python 3",
   "language": "python",
   "name": "python3"
  },
  "language_info": {
   "codemirror_mode": {
    "name": "ipython",
    "version": 3
   },
   "file_extension": ".py",
   "mimetype": "text/x-python",
   "name": "python",
   "nbconvert_exporter": "python",
   "pygments_lexer": "ipython3",
   "version": "3.11.9"
  }
 },
 "nbformat": 4,
 "nbformat_minor": 5
}
